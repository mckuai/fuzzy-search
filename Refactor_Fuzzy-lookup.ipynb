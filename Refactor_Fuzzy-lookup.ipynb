{
 "cells": [
  {
   "cell_type": "markdown",
   "id": "6a953974",
   "metadata": {},
   "source": [
    "# Fuzzy-Lookup"
   ]
  },
  {
   "cell_type": "code",
   "execution_count": 27,
   "id": "7d9fb70f",
   "metadata": {},
   "outputs": [],
   "source": [
    "# We import the libraries that we are goin to use. \n",
    "\n",
    "import numpy as np\n",
    "import pandas as pd\n",
    "from polyfuzz.models import TFIDF"
   ]
  },
  {
   "cell_type": "markdown",
   "id": "9c947c90",
   "metadata": {},
   "source": [
    "## Using the Account Name parameter"
   ]
  },
  {
   "cell_type": "markdown",
   "id": "e23af99a",
   "metadata": {},
   "source": [
    "### Cleansing the SF accounts"
   ]
  },
  {
   "cell_type": "code",
   "execution_count": 28,
   "id": "4714d6b3",
   "metadata": {},
   "outputs": [],
   "source": [
    "# We read the file that contains the SF Accounts.\n",
    "\n",
    "accounts_path = 'input/sf_accounts.csv'\n",
    "\n",
    "df2 = pd.read_csv(accounts_path, encoding = 'utf-8').dropna(subset=['Account ID'])"
   ]
  },
  {
   "cell_type": "code",
   "execution_count": 29,
   "id": "28a70ac7",
   "metadata": {},
   "outputs": [],
   "source": [
    "# We stablish the strange symbols and patters that we are going to remove. \n",
    "\n",
    "a = r'[^a-z0-9\\s]| inc\\b| plc\\b| llc\\b| ltd\\b| llp\\b| limited\\b| group\\b| corporation\\b| uk\\b'"
   ]
  },
  {
   "cell_type": "code",
   "execution_count": 30,
   "id": "2156fb2c",
   "metadata": {},
   "outputs": [],
   "source": [
    "# We create a new Account Name column to clean it.\n",
    "# We remove those symbols and patters from the Account Name Cleaned column.\n",
    "# We replace the empty strings with NaN values in the Account Name Cleaned column.\n",
    "\n",
    "df2['Account Name Cleaned'] = df2['Account Name']\n",
    "df2['Account Name Cleaned'] = df2['Account Name Cleaned'].str.lower().str.replace(a, '', regex=True).str.strip()\n",
    "df2['Account Name Cleaned'] = df2['Account Name Cleaned'].replace('', np.nan)"
   ]
  },
  {
   "cell_type": "code",
   "execution_count": 31,
   "id": "24aefc81",
   "metadata": {},
   "outputs": [],
   "source": [
    "# We create a DataFrame without NaN values in the Account Name Cleaned column. \n",
    "# We sort by Account Name Cleaned and Contact Count.\n",
    "# We drop duplicates in the Account Name Cleaned column and we keep the first one. \n",
    "\n",
    "df2_account = df2.dropna(subset=['Account Name Cleaned'])\n",
    "df2_account = df2_account.sort_values(by=['Account Name Cleaned', 'Contact Count'], ascending=[True, False])\n",
    "df2_account = df2_account.drop_duplicates(subset='Account Name Cleaned', keep='first')"
   ]
  },
  {
   "cell_type": "code",
   "execution_count": 32,
   "id": "49534706",
   "metadata": {},
   "outputs": [],
   "source": [
    "# We create a list with the Account Name Cleaned values. \n",
    "\n",
    "df2_account_list = df2_account['Account Name Cleaned'].tolist()"
   ]
  },
  {
   "cell_type": "markdown",
   "id": "bd671407",
   "metadata": {},
   "source": [
    "### Cleansing the external companies"
   ]
  },
  {
   "cell_type": "code",
   "execution_count": 33,
   "id": "01f2a367",
   "metadata": {},
   "outputs": [],
   "source": [
    "# We read the file that contains the external accounts. \n",
    "\n",
    "ext_data_path = 'input/ext_data.csv'\n",
    "\n",
    "df3 = pd.read_csv(ext_data_path, encoding=\"utf-8\")\n"
   ]
  },
  {
   "cell_type": "code",
   "execution_count": 34,
   "id": "da27c7b4",
   "metadata": {},
   "outputs": [],
   "source": [
    "# We create a new Account Name column to clean it.\n",
    "# We remove those symbols and patters from the Account Name Cleaned column.\n",
    "# We replace the empty strings with NaN values in the Account Name Cleaned column.\n",
    "\n",
    "df3['Company Name Cleaned'] = df3['Company Name']\n",
    "df3['Company Name Cleaned'] = df3['Company Name Cleaned'].str.lower().str.replace(a, '', regex=True).str.strip()\n",
    "df3['Company Name Cleaned'] = df3['Company Name Cleaned'].fillna(' ')"
   ]
  },
  {
   "cell_type": "code",
   "execution_count": 35,
   "id": "9e909531",
   "metadata": {},
   "outputs": [],
   "source": [
    "# We create a list with the Account Name Cleaned values and we drop the duplicates. \n",
    "\n",
    "df3_company_list = df3.drop_duplicates(subset='Company Name Cleaned', keep='first')['Company Name Cleaned'].tolist()"
   ]
  },
  {
   "cell_type": "code",
   "execution_count": 36,
   "id": "3aec0c19",
   "metadata": {},
   "outputs": [],
   "source": [
    "# We use the model 'TF-IDF' from the PolyFuzz library.\n",
    "# Changing Parameters to be used on large Data\n",
    "model = TFIDF(n_gram_range=(2,4), clean_string=True,cosine_method='sparse', top_n=1)"
   ]
  },
  {
   "cell_type": "code",
   "execution_count": 37,
   "id": "8a43dc9a",
   "metadata": {},
   "outputs": [],
   "source": [
    "#Saving results of model\n",
    "# Main part of the Fuzzy search\n",
    "result = model.match(df3_company_list, df2_account_list)"
   ]
  },
  {
   "cell_type": "code",
   "execution_count": 38,
   "id": "3eea70e8",
   "metadata": {},
   "outputs": [],
   "source": [
    "# We create a DataFrame that contains similarity > 0\n",
    "\n",
    "old_account = result[result['Similarity'] > 0].reset_index(drop=True)\n",
    "old_account = old_account.rename({'From': 'Company Name Cleaned', 'To':  'Account Name Cleaned'}, axis=1)"
   ]
  },
  {
   "cell_type": "code",
   "execution_count": 39,
   "id": "a1ad154b",
   "metadata": {},
   "outputs": [],
   "source": [
    "old_account['T/F'] = np.where(old_account['Similarity'] >= 0.98, True, False)\n"
   ]
  },
  {
   "cell_type": "markdown",
   "id": "42559324",
   "metadata": {},
   "source": [
    "---"
   ]
  },
  {
   "cell_type": "code",
   "execution_count": 40,
   "id": "f9de1fb3",
   "metadata": {},
   "outputs": [],
   "source": [
    "old_account['string_based'] = old_account['Account Name Cleaned'] == old_account['Company Name Cleaned']\n",
    "old_account['len'] = old_account['Company Name Cleaned'].apply(lambda x: len(x))"
   ]
  },
  {
   "cell_type": "code",
   "execution_count": 41,
   "id": "6c2e4d33",
   "metadata": {},
   "outputs": [],
   "source": [
    "old_account = old_account.sort_values(by=['T/F'], ascending=True).reset_index(drop=True)"
   ]
  },
  {
   "cell_type": "code",
   "execution_count": 42,
   "id": "90067a94",
   "metadata": {},
   "outputs": [],
   "source": [
    "old_account.to_csv('output/old_account_check.csv', index=False, encoding='utf-8-sig')"
   ]
  },
  {
   "cell_type": "markdown",
   "id": "db118084",
   "metadata": {},
   "source": [
    "---"
   ]
  },
  {
   "cell_type": "code",
   "execution_count": null,
   "id": "428d00a3",
   "metadata": {
    "scrolled": true,
    "tags": []
   },
   "outputs": [],
   "source": [
    "exit()"
   ]
  },
  {
   "cell_type": "markdown",
   "id": "247e45a3",
   "metadata": {},
   "source": [
    "---"
   ]
  },
  {
   "cell_type": "code",
   "execution_count": 43,
   "id": "e988cc34",
   "metadata": {},
   "outputs": [],
   "source": [
    "old_account = pd.read_csv('output/old_account_check.csv')"
   ]
  },
  {
   "cell_type": "code",
   "execution_count": 44,
   "id": "6e3ea5a5",
   "metadata": {},
   "outputs": [],
   "source": [
    "old_account_T = old_account[old_account['T/F'] == True].reset_index(drop='True')\n",
    "old_account_F = old_account[old_account['T/F'] == False].reset_index(drop='True')"
   ]
  },
  {
   "cell_type": "code",
   "execution_count": 45,
   "id": "ccfa4eb0",
   "metadata": {},
   "outputs": [],
   "source": [
    "inner_account_T = pd.merge(df2_account,\n",
    "                      old_account_T,\n",
    "                      on = 'Account Name Cleaned',\n",
    "                      how = 'inner',)\n",
    "                      #indicator = True).drop(columns = '_merge')"
   ]
  },
  {
   "cell_type": "code",
   "execution_count": 46,
   "id": "7e73846e",
   "metadata": {},
   "outputs": [],
   "source": [
    "inner_account_T = inner_account_T[['Account ID', 'Account Name', 'Company Name Cleaned', 'Website']]"
   ]
  },
  {
   "cell_type": "code",
   "execution_count": 47,
   "id": "bc8a0d20",
   "metadata": {},
   "outputs": [],
   "source": [
    "inner_company_T = pd.merge(inner_account_T,\n",
    "                      df3,\n",
    "                      on = 'Company Name Cleaned',\n",
    "                      how = 'left', suffixes=('_SF','_ext'))\n",
    "                      #indicator = True).drop(columns = '_merge')"
   ]
  },
  {
   "cell_type": "code",
   "execution_count": 48,
   "id": "01b50005",
   "metadata": {},
   "outputs": [],
   "source": [
    "# Accounts that we have in our system\n",
    "\n",
    "inner_company_T.to_csv('output/old_accounts.csv', index=False, encoding='utf-8-sig') #Old accounts"
   ]
  },
  {
   "cell_type": "markdown",
   "id": "85014520",
   "metadata": {},
   "source": [
    "---"
   ]
  },
  {
   "cell_type": "markdown",
   "id": "435af1c5",
   "metadata": {},
   "source": [
    "# Concatenation function"
   ]
  },
  {
   "cell_type": "code",
   "execution_count": 49,
   "id": "7ab22966",
   "metadata": {},
   "outputs": [
    {
     "name": "stdout",
     "output_type": "stream",
     "text": [
      "0014O000025jmpPQAQ,0014O000025jmpVQAQ,0014O00002LCJ3TQAX,0014O0000293DmbQAE,0014O00002LCIGgQAP,0014O000025jnpuQAA,0014O00002LCJOvQAP,0011300001wB52uAAC,0011300001wDBRXAA4,0011B00002C04RqQAJ,001a000001RZDLaAAP,0014O00002LCIydQAH,0014O000025jmPtQAI,0011B000029kI0pQAE,0011300001irvqpAAA,001a000001TfuT1AAJ,0014O00002Ev0FEQAZ,0014O000025jqrRQAQ,0014O000025jo21QAA,001a000001RZDVtAAP,0014O00002LBq0kQAD,0014O000025jo6dQAA,0014O00002LEp0KQAT,0014O00002IeSM8QAN,0014O0000293ERYQA2,0014O000025jmv5QAA,0014O00002LEcwcQAD,0014O00002LCJNTQA5,001a000001RZDauAAH,0011300001dJ06jAAC,001a000001UAynbAAD,0014O000025jnptQAA,001a000001RZDcHAAX,0014O000025jq5sQAA,001a000001RZDcbAAH,0011300001qH5fyAAC,0011300001c0qYqAAI,0014O00002FfDQaQAN,0014O000025jmy2QAA,0011300001wDBuoAAG,0014O00002LEdlIQAT,0014O00002LCxRIQA1,0011B00002BWaquQAD,0014O00002LCzK6QAL,0014O000025jmzKQAQ,0014O00002LEwfrQAD,0014O00002LCHIaQAP,0014O00002917r4QAA,0014O000025jqpsQAA,0014O0000293JX5QAM,0011300001wDC3gAAG,0014O00002LEdTBQA1,001a000001TfszhAAB,001a000001TfszmAAB,0014O000025jpTvQAI,0014O00002EvwmBQAR,0014O00002LEd9DQAT,0014O00002LDhwyQAD,0014O00002LDhxkQAD,0014O00002Ev0E4QAJ  size :1139\n",
      "0014O000025jpOSQAY,0014O00002LEceGQAT,0011300001uX01lAAC,0014O000025joJiQAI,0014O00002LCzJEQA1,0014O00002LCHyvQAH,0014O000025jobCQAQ,0014O00002LEcfWQAT,0014O00002LEjAhQAL,0014O00002LEdt0QAD,0014O00002LCyMPQA1,0014O000025joDUQAY,0014O00002EtU9qQAF,0011300001wDCGmAAO,001a000001RZDrDAAX,0014O000025jpdgQAA,0014O00002LEo5UQAT,0011300001wDCMQAA4,0014O0000293HZQQA2,0014O000025jnorQAA,0014O00002LCxLZQA1,0011300001uCLZOAA4,0011300001wDCVLAA4,0014O00002LCHSMQA5,0014O000025jnA5QAI,0014O00002FfDQJQA3,0014O000025jnosQAA,0014O00002LByFMQA1,0014O00002LBYstQAH,0014O000025jnA1QAI,0014O000025jmQiQAI,0014O00002LCzHHQA1,0014O00002LEcWsQAL,0014O000025joJjQAI,0014O000025joHoQAI,0014O00002LD4BIQA1,0011300001wDCfiAAG,0014O000025jpQ0QAI,0014O000025jmSDQAY,0014O000025jpPZQAY,0014O00002LBpwvQAD,0014O000025jqKdQAI,0014O00002LCzHqQAL,0014O00002K7N3SQAV,001a000001RZE5gAAH,0014O00002LEtpeQAD,001a000001TfgiAAAR,0014O000025joLKQAY,0014O00002IevZuQAJ,0014O0000292jfzQAA,0011300001v4IegAAE,001a000001RZE7VAAX,0014O000025jnGWQAY,0014O000025jnoWQAQ,0014O00002LCHxbQAH,0014O00002LBnCmQAL,0014O0000293StkQAE,0014O000025jqQoQAI,0014O00002LErMiQAL,0014O00002LDhuEQAT  size :1139\n",
      "0014O00002Bd8F3QAJ,0014O00002LEd9AQAT,001a000001RZE9jAAH,0014O00002LEe8YQAT,0011300001wDD3uAAG,0014O000025jpNhQAI,0014O0000293DUSQA2,0014O00002EuzEoQAJ,0014O000025jmS4QAI,0014O00002LCHm9QAH,0011300001wDD7xAAG,0014O000025jnLcQAI,001a000001TfgnMAAR,0011300001sjTyfAAE,0014O00002LDhwGQAT,0014O00002LEe8iQAD,0014O000025jmSOQAY,0014O000025jnLxQAI,0011300001t0KitAAE,0014O0000291HX0QAM,0014O000025jd6tQAA,0014O000025jnJkQAI,0014O000025jnG7QAI,0014O000025jp8DQAQ,0014O00002LEd4xQAD,0014O00002LBxJnQAL,0014O00002LCyWgQAL,0014O00002EvwmEQAR,0011300001wDDLDAA4,0014O000025jmPsQAI,0014O0000292z7zQAA,0011300001aF2MoAAK,0014O00002LEdmuQAD,001a000001U9yIKAAZ,0011300001wDDQIAA4,0014O000025jpTGQAY,0011300001wDDRDAA4,0014O00002LBlu2QAD,0011B00001J0slNQAR,0014O0000292DcbQAE,0014O00002915mxQAA,0014O000025jnysQAA  size :797\n"
     ]
    }
   ],
   "source": [
    "# Getting the list of ID's\n",
    "for i in range(0, len(inner_company_T['Account ID'].drop_duplicates()), 60):\n",
    "   concat = ','.join(inner_company_T['Account ID'].drop_duplicates().tolist()[i:i+60])\n",
    "   print(concat, f\" size :{len(concat)}\")"
   ]
  },
  {
   "cell_type": "markdown",
   "id": "ded73ed5",
   "metadata": {},
   "source": [
    "---"
   ]
  },
  {
   "cell_type": "code",
   "execution_count": 50,
   "id": "f53b5dc5",
   "metadata": {},
   "outputs": [],
   "source": [
    "inner_company_T_list = inner_company_T['Company Name'].tolist()"
   ]
  },
  {
   "cell_type": "code",
   "execution_count": 51,
   "id": "79525cd6",
   "metadata": {},
   "outputs": [],
   "source": [
    "new_accounts = df3[~df3['Company Name'].isin(inner_company_T_list)].reset_index(drop=True)"
   ]
  },
  {
   "cell_type": "code",
   "execution_count": 52,
   "id": "01aa2776",
   "metadata": {},
   "outputs": [],
   "source": [
    "new_accounts.to_csv('output/new_accounts.csv',index=False, encoding='utf-8-sig')"
   ]
  }
 ],
 "metadata": {
  "interpreter": {
   "hash": "969bc0702dbd192e22f28477f3f72e240f90fe5cfe3a0aaa4e512f9f13b64617"
  },
  "kernelspec": {
   "display_name": "Python 3.8.0 ('chamba')",
   "language": "python",
   "name": "python3"
  },
  "language_info": {
   "codemirror_mode": {
    "name": "ipython",
    "version": 3
   },
   "file_extension": ".py",
   "mimetype": "text/x-python",
   "name": "python",
   "nbconvert_exporter": "python",
   "pygments_lexer": "ipython3",
   "version": "3.8.0"
  }
 },
 "nbformat": 4,
 "nbformat_minor": 5
}
