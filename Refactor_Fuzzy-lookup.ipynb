{
 "cells": [
  {
   "cell_type": "markdown",
   "id": "6a953974",
   "metadata": {},
   "source": [
    "# Fuzzy-Lookup"
   ]
  },
  {
   "cell_type": "code",
   "execution_count": 23,
   "id": "7d9fb70f",
   "metadata": {},
   "outputs": [],
   "source": [
    "# We import the libraries that we are goin to use. \n",
    "\n",
    "import numpy as np\n",
    "import pandas as pd\n",
    "from polyfuzz.models import TFIDF"
   ]
  },
  {
   "cell_type": "markdown",
   "id": "9c947c90",
   "metadata": {},
   "source": [
    "## Using the Account Name parameter"
   ]
  },
  {
   "cell_type": "markdown",
   "id": "e23af99a",
   "metadata": {},
   "source": [
    "### Cleansing the SF accounts"
   ]
  },
  {
   "cell_type": "code",
   "execution_count": 24,
   "id": "4714d6b3",
   "metadata": {},
   "outputs": [],
   "source": [
    "# We read the file that contains the SF Accounts.\n",
    "\n",
    "accounts_path = 'input/sf_accounts.csv'\n",
    "\n",
    "df2 = pd.read_csv(accounts_path, encoding = 'Latin1').dropna(subset=['Account ID'])"
   ]
  },
  {
   "cell_type": "code",
   "execution_count": 25,
   "id": "fb5022b5",
   "metadata": {},
   "outputs": [
    {
     "data": {
      "text/html": [
       "<div>\n",
       "<style scoped>\n",
       "    .dataframe tbody tr th:only-of-type {\n",
       "        vertical-align: middle;\n",
       "    }\n",
       "\n",
       "    .dataframe tbody tr th {\n",
       "        vertical-align: top;\n",
       "    }\n",
       "\n",
       "    .dataframe thead th {\n",
       "        text-align: right;\n",
       "    }\n",
       "</style>\n",
       "<table border=\"1\" class=\"dataframe\">\n",
       "  <thead>\n",
       "    <tr style=\"text-align: right;\">\n",
       "      <th></th>\n",
       "      <th>Account Name</th>\n",
       "      <th>Website</th>\n",
       "      <th>Contact Count</th>\n",
       "      <th>Account ID</th>\n",
       "    </tr>\n",
       "  </thead>\n",
       "  <tbody>\n",
       "    <tr>\n",
       "      <th>0</th>\n",
       "      <td>BH Live</td>\n",
       "      <td>www.bhlive.org.uk</td>\n",
       "      <td>2.0</td>\n",
       "      <td>0011300001wDBbT</td>\n",
       "    </tr>\n",
       "    <tr>\n",
       "      <th>1</th>\n",
       "      <td>Telesure group services</td>\n",
       "      <td>NaN</td>\n",
       "      <td>1.0</td>\n",
       "      <td>0014O00002IfXnR</td>\n",
       "    </tr>\n",
       "    <tr>\n",
       "      <th>2</th>\n",
       "      <td>Fluent Money Ltd</td>\n",
       "      <td>fluentmoney.co.uk</td>\n",
       "      <td>1.0</td>\n",
       "      <td>0014O00002LCOke</td>\n",
       "    </tr>\n",
       "    <tr>\n",
       "      <th>3</th>\n",
       "      <td>Applus+ Automotive</td>\n",
       "      <td>www.applusautomotive.com</td>\n",
       "      <td>1.0</td>\n",
       "      <td>0014O00002LDtT3</td>\n",
       "    </tr>\n",
       "    <tr>\n",
       "      <th>4</th>\n",
       "      <td>Riverview LLP</td>\n",
       "      <td>riverviewllp.com</td>\n",
       "      <td>1.0</td>\n",
       "      <td>0014O00002LCuWO</td>\n",
       "    </tr>\n",
       "  </tbody>\n",
       "</table>\n",
       "</div>"
      ],
      "text/plain": [
       "              Account Name                   Website  Contact Count  \\\n",
       "0                  BH Live         www.bhlive.org.uk            2.0   \n",
       "1  Telesure group services                       NaN            1.0   \n",
       "2         Fluent Money Ltd         fluentmoney.co.uk            1.0   \n",
       "3       Applus+ Automotive  www.applusautomotive.com            1.0   \n",
       "4            Riverview LLP          riverviewllp.com            1.0   \n",
       "\n",
       "        Account ID  \n",
       "0  0011300001wDBbT  \n",
       "1  0014O00002IfXnR  \n",
       "2  0014O00002LCOke  \n",
       "3  0014O00002LDtT3  \n",
       "4  0014O00002LCuWO  "
      ]
     },
     "execution_count": 25,
     "metadata": {},
     "output_type": "execute_result"
    }
   ],
   "source": [
    "df2.head()"
   ]
  },
  {
   "cell_type": "code",
   "execution_count": 26,
   "id": "28a70ac7",
   "metadata": {},
   "outputs": [],
   "source": [
    "# We stablish the strange symbols and patters that we are going to remove. \n",
    "\n",
    "a = '[^a-z0-9\\s]| inc| plc| llc| ltd| llp| limited| group| corporation| uk'"
   ]
  },
  {
   "cell_type": "code",
   "execution_count": 27,
   "id": "2156fb2c",
   "metadata": {},
   "outputs": [],
   "source": [
    "# We create a new Account Name column to clean it.\n",
    "# We remove those symbols and patters from the Account Name Cleaned column.\n",
    "# We replace the empty strings with NaN values in the Account Name Cleaned column.\n",
    "\n",
    "df2['Account Name Cleaned'] = df2['Account Name']\n",
    "df2['Account Name Cleaned'] = df2['Account Name Cleaned'].str.lower().str.replace(a, '', regex=True).str.strip()\n",
    "df2['Account Name Cleaned'] = df2['Account Name Cleaned'].replace('', np.nan)"
   ]
  },
  {
   "cell_type": "code",
   "execution_count": 28,
   "id": "24aefc81",
   "metadata": {},
   "outputs": [],
   "source": [
    "# We create a DataFrame without NaN values in the Account Name Cleaned column. \n",
    "# We sort by Account Name Cleaned and Contact Count.\n",
    "# We drop duplicates in the Account Name Cleaned column and we keep the first one. \n",
    "\n",
    "df2_account = df2.dropna(subset=['Account Name Cleaned'])\n",
    "df2_account = df2_account.sort_values(by=['Account Name Cleaned', 'Contact Count'], ascending=[True, False])\n",
    "df2_account = df2_account.drop_duplicates(subset='Account Name Cleaned', keep='first')"
   ]
  },
  {
   "cell_type": "code",
   "execution_count": 29,
   "id": "49534706",
   "metadata": {},
   "outputs": [],
   "source": [
    "# We create a list with the Account Name Cleaned values. \n",
    "\n",
    "df2_account_list = df2_account['Account Name Cleaned'].tolist()"
   ]
  },
  {
   "cell_type": "markdown",
   "id": "bd671407",
   "metadata": {},
   "source": [
    "### Cleansing the external companies"
   ]
  },
  {
   "cell_type": "code",
   "execution_count": 30,
   "id": "01f2a367",
   "metadata": {},
   "outputs": [],
   "source": [
    "# We read the file that contains the external accounts. \n",
    "\n",
    "ext_data_path = 'input/ext_data.csv'\n",
    "\n",
    "df3 = pd.read_csv(ext_data_path, encoding=\"Latin1\")\n"
   ]
  },
  {
   "cell_type": "code",
   "execution_count": 31,
   "id": "da27c7b4",
   "metadata": {},
   "outputs": [],
   "source": [
    "# We create a new Account Name column to clean it.\n",
    "# We remove those symbols and patters from the Account Name Cleaned column.\n",
    "# We replace the empty strings with NaN values in the Account Name Cleaned column.\n",
    "\n",
    "df3['Company Name Cleaned'] = df3['Company Name']\n",
    "df3['Company Name Cleaned'] = df3['Company Name Cleaned'].str.lower().str.replace(a, '', regex=True).str.strip()\n",
    "df3['Company Name Cleaned'] = df3['Company Name Cleaned'].fillna(' ')"
   ]
  },
  {
   "cell_type": "code",
   "execution_count": 32,
   "id": "d2a56942",
   "metadata": {},
   "outputs": [
    {
     "data": {
      "text/html": [
       "<div>\n",
       "<style scoped>\n",
       "    .dataframe tbody tr th:only-of-type {\n",
       "        vertical-align: middle;\n",
       "    }\n",
       "\n",
       "    .dataframe tbody tr th {\n",
       "        vertical-align: top;\n",
       "    }\n",
       "\n",
       "    .dataframe thead th {\n",
       "        text-align: right;\n",
       "    }\n",
       "</style>\n",
       "<table border=\"1\" class=\"dataframe\">\n",
       "  <thead>\n",
       "    <tr style=\"text-align: right;\">\n",
       "      <th></th>\n",
       "      <th>Unnamed: 0</th>\n",
       "      <th>First Name</th>\n",
       "      <th>Last Name</th>\n",
       "      <th>Email</th>\n",
       "      <th>Phone</th>\n",
       "      <th>Company Name</th>\n",
       "      <th>Company Name Cleaned</th>\n",
       "    </tr>\n",
       "  </thead>\n",
       "  <tbody>\n",
       "    <tr>\n",
       "      <th>0</th>\n",
       "      <td>0</td>\n",
       "      <td>George</td>\n",
       "      <td>Courtot</td>\n",
       "      <td>gcourtot@trimarkusa.com</td>\n",
       "      <td>(508) 399-2400</td>\n",
       "      <td>TriMark USA</td>\n",
       "      <td>trimark usa</td>\n",
       "    </tr>\n",
       "    <tr>\n",
       "      <th>1</th>\n",
       "      <td>1</td>\n",
       "      <td>Michael</td>\n",
       "      <td>Farnham</td>\n",
       "      <td>michael.farnham@ge.com</td>\n",
       "      <td>(513) 243-4006</td>\n",
       "      <td>General Electric</td>\n",
       "      <td>general electric</td>\n",
       "    </tr>\n",
       "    <tr>\n",
       "      <th>2</th>\n",
       "      <td>3</td>\n",
       "      <td>Brittany</td>\n",
       "      <td>Rogers</td>\n",
       "      <td>brittany.rogers@shawinc.com</td>\n",
       "      <td>(800) 446-9332</td>\n",
       "      <td>Shaw Industries Group, Inc.</td>\n",
       "      <td>shaw industries</td>\n",
       "    </tr>\n",
       "    <tr>\n",
       "      <th>3</th>\n",
       "      <td>4</td>\n",
       "      <td>Barry</td>\n",
       "      <td>Okun</td>\n",
       "      <td>bokun@wegochem.com</td>\n",
       "      <td>(516) 487-3510 ext. 129</td>\n",
       "      <td>Wego Chemical Group</td>\n",
       "      <td>wego chemical</td>\n",
       "    </tr>\n",
       "    <tr>\n",
       "      <th>4</th>\n",
       "      <td>5</td>\n",
       "      <td>Quinlan</td>\n",
       "      <td>Miller</td>\n",
       "      <td>quinlan.miller@jbtc.com</td>\n",
       "      <td>(919) 362-8811 ext. 284</td>\n",
       "      <td>JBT Corporation</td>\n",
       "      <td>jbt</td>\n",
       "    </tr>\n",
       "  </tbody>\n",
       "</table>\n",
       "</div>"
      ],
      "text/plain": [
       "   Unnamed: 0 First Name Last Name                        Email  \\\n",
       "0           0     George   Courtot      gcourtot@trimarkusa.com   \n",
       "1           1    Michael   Farnham       michael.farnham@ge.com   \n",
       "2           3   Brittany    Rogers  brittany.rogers@shawinc.com   \n",
       "3           4      Barry      Okun           bokun@wegochem.com   \n",
       "4           5    Quinlan    Miller      quinlan.miller@jbtc.com   \n",
       "\n",
       "                     Phone                 Company Name Company Name Cleaned  \n",
       "0           (508) 399-2400                  TriMark USA          trimark usa  \n",
       "1           (513) 243-4006             General Electric     general electric  \n",
       "2           (800) 446-9332  Shaw Industries Group, Inc.      shaw industries  \n",
       "3  (516) 487-3510 ext. 129          Wego Chemical Group        wego chemical  \n",
       "4  (919) 362-8811 ext. 284              JBT Corporation                  jbt  "
      ]
     },
     "execution_count": 32,
     "metadata": {},
     "output_type": "execute_result"
    }
   ],
   "source": [
    "df3.head()"
   ]
  },
  {
   "cell_type": "code",
   "execution_count": 33,
   "id": "9e909531",
   "metadata": {},
   "outputs": [],
   "source": [
    "# We create a list with the Account Name Cleaned values and we drop the duplicates. \n",
    "\n",
    "df3_company_list = df3.drop_duplicates(subset='Company Name Cleaned', keep='first')['Company Name Cleaned'].tolist()"
   ]
  },
  {
   "cell_type": "code",
   "execution_count": 34,
   "id": "95789cc9",
   "metadata": {},
   "outputs": [
    {
     "data": {
      "text/plain": [
       "['trimark usa', 'general electric', 'shaw industries', 'wego chemical', 'jbt']"
      ]
     },
     "execution_count": 34,
     "metadata": {},
     "output_type": "execute_result"
    }
   ],
   "source": [
    "df3_company_list[:5]"
   ]
  },
  {
   "cell_type": "code",
   "execution_count": 35,
   "id": "3aec0c19",
   "metadata": {},
   "outputs": [],
   "source": [
    "# We use the model 'TF-IDF' from the PolyFuzz library.\n",
    "# Changing Parameters to be used on large Data\n",
    "model = TFIDF(n_gram_range=(2,2), clean_string=True, min_similarity=0.95, cosine_method='sparse', top_n=1)"
   ]
  },
  {
   "cell_type": "code",
   "execution_count": 36,
   "id": "8a43dc9a",
   "metadata": {},
   "outputs": [],
   "source": [
    "#Saving results of model\n",
    "# Main part of the Fuzzy search\n",
    "result = model.match(df3_company_list, df2_account_list)"
   ]
  },
  {
   "cell_type": "markdown",
   "id": "f1bb845b",
   "metadata": {},
   "source": [
    "---"
   ]
  },
  {
   "cell_type": "code",
   "execution_count": 37,
   "id": "8e788906",
   "metadata": {},
   "outputs": [
    {
     "data": {
      "text/html": [
       "<div>\n",
       "<style scoped>\n",
       "    .dataframe tbody tr th:only-of-type {\n",
       "        vertical-align: middle;\n",
       "    }\n",
       "\n",
       "    .dataframe tbody tr th {\n",
       "        vertical-align: top;\n",
       "    }\n",
       "\n",
       "    .dataframe thead th {\n",
       "        text-align: right;\n",
       "    }\n",
       "</style>\n",
       "<table border=\"1\" class=\"dataframe\">\n",
       "  <thead>\n",
       "    <tr style=\"text-align: right;\">\n",
       "      <th></th>\n",
       "      <th>From</th>\n",
       "      <th>To</th>\n",
       "      <th>Similarity</th>\n",
       "    </tr>\n",
       "  </thead>\n",
       "  <tbody>\n",
       "    <tr>\n",
       "      <th>0</th>\n",
       "      <td>trimark usa</td>\n",
       "      <td>trimark usa</td>\n",
       "      <td>1.0</td>\n",
       "    </tr>\n",
       "    <tr>\n",
       "      <th>1</th>\n",
       "      <td>general electric</td>\n",
       "      <td>general electric</td>\n",
       "      <td>1.0</td>\n",
       "    </tr>\n",
       "    <tr>\n",
       "      <th>2</th>\n",
       "      <td>shaw industries</td>\n",
       "      <td>shaw industries</td>\n",
       "      <td>1.0</td>\n",
       "    </tr>\n",
       "    <tr>\n",
       "      <th>3</th>\n",
       "      <td>wego chemical</td>\n",
       "      <td>None</td>\n",
       "      <td>0.0</td>\n",
       "    </tr>\n",
       "    <tr>\n",
       "      <th>4</th>\n",
       "      <td>jbt</td>\n",
       "      <td>jbt</td>\n",
       "      <td>1.0</td>\n",
       "    </tr>\n",
       "  </tbody>\n",
       "</table>\n",
       "</div>"
      ],
      "text/plain": [
       "               From                To  Similarity\n",
       "0       trimark usa       trimark usa         1.0\n",
       "1  general electric  general electric         1.0\n",
       "2   shaw industries   shaw industries         1.0\n",
       "3     wego chemical              None         0.0\n",
       "4               jbt               jbt         1.0"
      ]
     },
     "execution_count": 37,
     "metadata": {},
     "output_type": "execute_result"
    }
   ],
   "source": [
    "result.head()"
   ]
  },
  {
   "cell_type": "code",
   "execution_count": 38,
   "id": "3eea70e8",
   "metadata": {},
   "outputs": [],
   "source": [
    "# We create a DataFrame that contains similarity > .95\n",
    "\n",
    "old_account = result[result['Similarity'] > .30].reset_index(drop=True)\n",
    "old_account = old_account.rename({'From': 'Company Name Cleaned', 'To':  'Account Name Cleaned'}, axis=1)"
   ]
  },
  {
   "cell_type": "code",
   "execution_count": 39,
   "id": "a1ad154b",
   "metadata": {},
   "outputs": [],
   "source": [
    "# old_account['T/F'] = old_account['Account Name Cleaned'] == old_account['Company Name Cleaned']\n",
    "\n",
    "old_account['T/F'] = np.where(old_account['Similarity'] >= 0.98, True, False)\n"
   ]
  },
  {
   "cell_type": "markdown",
   "id": "42559324",
   "metadata": {},
   "source": [
    "---"
   ]
  },
  {
   "cell_type": "code",
   "execution_count": 40,
   "id": "f9de1fb3",
   "metadata": {},
   "outputs": [],
   "source": [
    "old_account['string_based'] = old_account['Account Name Cleaned'] == old_account['Company Name Cleaned']\n",
    "old_account['len'] = old_account['Company Name Cleaned'].apply(lambda x: len(x))"
   ]
  },
  {
   "cell_type": "markdown",
   "id": "db118084",
   "metadata": {},
   "source": [
    "---"
   ]
  },
  {
   "cell_type": "code",
   "execution_count": 41,
   "id": "6c2e4d33",
   "metadata": {},
   "outputs": [],
   "source": [
    "old_account = old_account.sort_values(by=['T/F'], ascending=True).reset_index(drop=True)"
   ]
  },
  {
   "cell_type": "code",
   "execution_count": 43,
   "id": "90067a94",
   "metadata": {},
   "outputs": [],
   "source": [
    "old_account.to_csv('output/old_account_check.csv', index=False)"
   ]
  },
  {
   "cell_type": "code",
   "execution_count": null,
   "id": "428d00a3",
   "metadata": {
    "scrolled": true
   },
   "outputs": [],
   "source": [
    "exit()"
   ]
  },
  {
   "cell_type": "markdown",
   "id": "247e45a3",
   "metadata": {},
   "source": [
    "---"
   ]
  },
  {
   "cell_type": "code",
   "execution_count": 44,
   "id": "e988cc34",
   "metadata": {},
   "outputs": [],
   "source": [
    "old_account = pd.read_csv('output/old_account_check.csv')"
   ]
  },
  {
   "cell_type": "code",
   "execution_count": 45,
   "id": "1324773a",
   "metadata": {},
   "outputs": [
    {
     "data": {
      "text/html": [
       "<div>\n",
       "<style scoped>\n",
       "    .dataframe tbody tr th:only-of-type {\n",
       "        vertical-align: middle;\n",
       "    }\n",
       "\n",
       "    .dataframe tbody tr th {\n",
       "        vertical-align: top;\n",
       "    }\n",
       "\n",
       "    .dataframe thead th {\n",
       "        text-align: right;\n",
       "    }\n",
       "</style>\n",
       "<table border=\"1\" class=\"dataframe\">\n",
       "  <thead>\n",
       "    <tr style=\"text-align: right;\">\n",
       "      <th></th>\n",
       "      <th>Company Name Cleaned</th>\n",
       "      <th>Account Name Cleaned</th>\n",
       "      <th>Similarity</th>\n",
       "      <th>T/F</th>\n",
       "      <th>string_based</th>\n",
       "      <th>len</th>\n",
       "    </tr>\n",
       "  </thead>\n",
       "  <tbody>\n",
       "    <tr>\n",
       "      <th>115</th>\n",
       "      <td>crane co</td>\n",
       "      <td>crane  co</td>\n",
       "      <td>1.000</td>\n",
       "      <td>True</td>\n",
       "      <td>False</td>\n",
       "      <td>8.0</td>\n",
       "    </tr>\n",
       "    <tr>\n",
       "      <th>126</th>\n",
       "      <td>u s steel</td>\n",
       "      <td>steel</td>\n",
       "      <td>1.000</td>\n",
       "      <td>True</td>\n",
       "      <td>False</td>\n",
       "      <td>9.0</td>\n",
       "    </tr>\n",
       "    <tr>\n",
       "      <th>130</th>\n",
       "      <td>a o smith</td>\n",
       "      <td>smith</td>\n",
       "      <td>1.000</td>\n",
       "      <td>True</td>\n",
       "      <td>False</td>\n",
       "      <td>9.0</td>\n",
       "    </tr>\n",
       "    <tr>\n",
       "      <th>276</th>\n",
       "      <td>wagner equipment co</td>\n",
       "      <td>wagner equipment</td>\n",
       "      <td>0.986</td>\n",
       "      <td>True</td>\n",
       "      <td>False</td>\n",
       "      <td>19.0</td>\n",
       "    </tr>\n",
       "    <tr>\n",
       "      <th>284</th>\n",
       "      <td>baker hughes company</td>\n",
       "      <td>baker hughes a ge company</td>\n",
       "      <td>0.975</td>\n",
       "      <td>True</td>\n",
       "      <td>False</td>\n",
       "      <td>20.0</td>\n",
       "    </tr>\n",
       "  </tbody>\n",
       "</table>\n",
       "</div>"
      ],
      "text/plain": [
       "     Company Name Cleaned       Account Name Cleaned  Similarity   T/F  \\\n",
       "115              crane co                  crane  co       1.000  True   \n",
       "126             u s steel                      steel       1.000  True   \n",
       "130             a o smith                      smith       1.000  True   \n",
       "276   wagner equipment co           wagner equipment       0.986  True   \n",
       "284  baker hughes company  baker hughes a ge company       0.975  True   \n",
       "\n",
       "    string_based   len  \n",
       "115        False   8.0  \n",
       "126        False   9.0  \n",
       "130        False   9.0  \n",
       "276        False  19.0  \n",
       "284        False  20.0  "
      ]
     },
     "execution_count": 45,
     "metadata": {},
     "output_type": "execute_result"
    }
   ],
   "source": [
    "old_account.loc[(old_account['T/F'] != old_account['string_based']) & (old_account['len'] <= 20)].sort_values(by='len')"
   ]
  },
  {
   "cell_type": "code",
   "execution_count": 46,
   "id": "6e3ea5a5",
   "metadata": {},
   "outputs": [],
   "source": [
    "old_account_T = old_account[old_account['T/F'] == True].reset_index(drop='True')\n",
    "old_account_F = old_account[old_account['T/F'] == False].reset_index(drop='True')"
   ]
  },
  {
   "cell_type": "code",
   "execution_count": 47,
   "id": "ccfa4eb0",
   "metadata": {},
   "outputs": [],
   "source": [
    "inner_account_T = pd.merge(df2_account,\n",
    "                      old_account_T,\n",
    "                      on = 'Account Name Cleaned',\n",
    "                      how = 'inner',)\n",
    "                      #indicator = True).drop(columns = '_merge')"
   ]
  },
  {
   "cell_type": "code",
   "execution_count": 48,
   "id": "85b96ac8",
   "metadata": {},
   "outputs": [
    {
     "data": {
      "text/html": [
       "<div>\n",
       "<style scoped>\n",
       "    .dataframe tbody tr th:only-of-type {\n",
       "        vertical-align: middle;\n",
       "    }\n",
       "\n",
       "    .dataframe tbody tr th {\n",
       "        vertical-align: top;\n",
       "    }\n",
       "\n",
       "    .dataframe thead th {\n",
       "        text-align: right;\n",
       "    }\n",
       "</style>\n",
       "<table border=\"1\" class=\"dataframe\">\n",
       "  <thead>\n",
       "    <tr style=\"text-align: right;\">\n",
       "      <th></th>\n",
       "      <th>Account Name</th>\n",
       "      <th>Website</th>\n",
       "      <th>Contact Count</th>\n",
       "      <th>Account ID</th>\n",
       "      <th>Account Name Cleaned</th>\n",
       "      <th>Company Name Cleaned</th>\n",
       "      <th>Similarity</th>\n",
       "      <th>T/F</th>\n",
       "      <th>string_based</th>\n",
       "      <th>len</th>\n",
       "    </tr>\n",
       "  </thead>\n",
       "  <tbody>\n",
       "    <tr>\n",
       "      <th>0</th>\n",
       "      <td>3D Systems</td>\n",
       "      <td>www.3dsystems.com</td>\n",
       "      <td>49.0</td>\n",
       "      <td>0014O000029352o</td>\n",
       "      <td>3d systems</td>\n",
       "      <td>3d systems</td>\n",
       "      <td>1.0</td>\n",
       "      <td>True</td>\n",
       "      <td>True</td>\n",
       "      <td>10.0</td>\n",
       "    </tr>\n",
       "    <tr>\n",
       "      <th>1</th>\n",
       "      <td>84 Lumber Company</td>\n",
       "      <td>www.84lumber.com</td>\n",
       "      <td>26.0</td>\n",
       "      <td>0014O00002935Gu</td>\n",
       "      <td>84 lumber company</td>\n",
       "      <td>84 lumber company</td>\n",
       "      <td>1.0</td>\n",
       "      <td>True</td>\n",
       "      <td>True</td>\n",
       "      <td>17.0</td>\n",
       "    </tr>\n",
       "    <tr>\n",
       "      <th>2</th>\n",
       "      <td>Accuride International</td>\n",
       "      <td>www.accuride.com</td>\n",
       "      <td>9.0</td>\n",
       "      <td>0014O0000292z7R</td>\n",
       "      <td>accuride international</td>\n",
       "      <td>accuride international</td>\n",
       "      <td>1.0</td>\n",
       "      <td>True</td>\n",
       "      <td>True</td>\n",
       "      <td>22.0</td>\n",
       "    </tr>\n",
       "    <tr>\n",
       "      <th>3</th>\n",
       "      <td>Acme Brick</td>\n",
       "      <td>www.brick.com</td>\n",
       "      <td>27.0</td>\n",
       "      <td>0014O0000292z2l</td>\n",
       "      <td>acme brick</td>\n",
       "      <td>acme brick</td>\n",
       "      <td>1.0</td>\n",
       "      <td>True</td>\n",
       "      <td>True</td>\n",
       "      <td>10.0</td>\n",
       "    </tr>\n",
       "    <tr>\n",
       "      <th>4</th>\n",
       "      <td>Advanced Drainage Systems</td>\n",
       "      <td>www.ads-pipe.com</td>\n",
       "      <td>15.0</td>\n",
       "      <td>0014O0000292zYR</td>\n",
       "      <td>advanced drainage systems</td>\n",
       "      <td>advanced drainage systems</td>\n",
       "      <td>1.0</td>\n",
       "      <td>True</td>\n",
       "      <td>True</td>\n",
       "      <td>25.0</td>\n",
       "    </tr>\n",
       "    <tr>\n",
       "      <th>...</th>\n",
       "      <td>...</td>\n",
       "      <td>...</td>\n",
       "      <td>...</td>\n",
       "      <td>...</td>\n",
       "      <td>...</td>\n",
       "      <td>...</td>\n",
       "      <td>...</td>\n",
       "      <td>...</td>\n",
       "      <td>...</td>\n",
       "      <td>...</td>\n",
       "    </tr>\n",
       "    <tr>\n",
       "      <th>354</th>\n",
       "      <td>W.W. Grainger, Inc.</td>\n",
       "      <td>NaN</td>\n",
       "      <td>11.0</td>\n",
       "      <td>0014O00002917zN</td>\n",
       "      <td>ww grainger</td>\n",
       "      <td>ww grainger</td>\n",
       "      <td>1.0</td>\n",
       "      <td>True</td>\n",
       "      <td>True</td>\n",
       "      <td>11.0</td>\n",
       "    </tr>\n",
       "    <tr>\n",
       "      <th>355</th>\n",
       "      <td>XAL</td>\n",
       "      <td>www.xalusa.com</td>\n",
       "      <td>6.0</td>\n",
       "      <td>0014O00002937Wd</td>\n",
       "      <td>xal</td>\n",
       "      <td>xal</td>\n",
       "      <td>1.0</td>\n",
       "      <td>True</td>\n",
       "      <td>True</td>\n",
       "      <td>3.0</td>\n",
       "    </tr>\n",
       "    <tr>\n",
       "      <th>356</th>\n",
       "      <td>Xilinx</td>\n",
       "      <td>www.xilinx.com</td>\n",
       "      <td>134.0</td>\n",
       "      <td>0014O0000293I6I</td>\n",
       "      <td>xilinx</td>\n",
       "      <td>xilinx</td>\n",
       "      <td>1.0</td>\n",
       "      <td>True</td>\n",
       "      <td>True</td>\n",
       "      <td>6.0</td>\n",
       "    </tr>\n",
       "    <tr>\n",
       "      <th>357</th>\n",
       "      <td>Xylem</td>\n",
       "      <td>www.xylem.com</td>\n",
       "      <td>203.0</td>\n",
       "      <td>0014O0000293L1i</td>\n",
       "      <td>xylem</td>\n",
       "      <td>xylem</td>\n",
       "      <td>1.0</td>\n",
       "      <td>True</td>\n",
       "      <td>True</td>\n",
       "      <td>5.0</td>\n",
       "    </tr>\n",
       "    <tr>\n",
       "      <th>358</th>\n",
       "      <td>Zoltek</td>\n",
       "      <td>www.zoltek.com</td>\n",
       "      <td>6.0</td>\n",
       "      <td>0014O0000293323</td>\n",
       "      <td>zoltek</td>\n",
       "      <td>zoltek</td>\n",
       "      <td>1.0</td>\n",
       "      <td>True</td>\n",
       "      <td>True</td>\n",
       "      <td>6.0</td>\n",
       "    </tr>\n",
       "  </tbody>\n",
       "</table>\n",
       "<p>359 rows × 10 columns</p>\n",
       "</div>"
      ],
      "text/plain": [
       "                  Account Name            Website  Contact Count  \\\n",
       "0                   3D Systems  www.3dsystems.com           49.0   \n",
       "1            84 Lumber Company   www.84lumber.com           26.0   \n",
       "2       Accuride International   www.accuride.com            9.0   \n",
       "3                   Acme Brick      www.brick.com           27.0   \n",
       "4    Advanced Drainage Systems   www.ads-pipe.com           15.0   \n",
       "..                         ...                ...            ...   \n",
       "354        W.W. Grainger, Inc.                NaN           11.0   \n",
       "355                        XAL     www.xalusa.com            6.0   \n",
       "356                     Xilinx     www.xilinx.com          134.0   \n",
       "357                      Xylem      www.xylem.com          203.0   \n",
       "358                     Zoltek     www.zoltek.com            6.0   \n",
       "\n",
       "          Account ID       Account Name Cleaned       Company Name Cleaned  \\\n",
       "0    0014O000029352o                 3d systems                 3d systems   \n",
       "1    0014O00002935Gu          84 lumber company          84 lumber company   \n",
       "2    0014O0000292z7R     accuride international     accuride international   \n",
       "3    0014O0000292z2l                 acme brick                 acme brick   \n",
       "4    0014O0000292zYR  advanced drainage systems  advanced drainage systems   \n",
       "..               ...                        ...                        ...   \n",
       "354  0014O00002917zN                ww grainger                ww grainger   \n",
       "355  0014O00002937Wd                        xal                        xal   \n",
       "356  0014O0000293I6I                     xilinx                     xilinx   \n",
       "357  0014O0000293L1i                      xylem                      xylem   \n",
       "358  0014O0000293323                     zoltek                     zoltek   \n",
       "\n",
       "     Similarity   T/F string_based   len  \n",
       "0           1.0  True         True  10.0  \n",
       "1           1.0  True         True  17.0  \n",
       "2           1.0  True         True  22.0  \n",
       "3           1.0  True         True  10.0  \n",
       "4           1.0  True         True  25.0  \n",
       "..          ...   ...          ...   ...  \n",
       "354         1.0  True         True  11.0  \n",
       "355         1.0  True         True   3.0  \n",
       "356         1.0  True         True   6.0  \n",
       "357         1.0  True         True   5.0  \n",
       "358         1.0  True         True   6.0  \n",
       "\n",
       "[359 rows x 10 columns]"
      ]
     },
     "execution_count": 48,
     "metadata": {},
     "output_type": "execute_result"
    }
   ],
   "source": [
    "inner_account_T"
   ]
  },
  {
   "cell_type": "code",
   "execution_count": 49,
   "id": "7e73846e",
   "metadata": {},
   "outputs": [],
   "source": [
    "inner_account_T = inner_account_T[['Account ID', 'Account Name', 'Company Name Cleaned', 'Website']]"
   ]
  },
  {
   "cell_type": "code",
   "execution_count": 50,
   "id": "bc8a0d20",
   "metadata": {},
   "outputs": [],
   "source": [
    "inner_company_T = pd.merge(inner_account_T,\n",
    "                      df3,\n",
    "                      on = 'Company Name Cleaned',\n",
    "                      how = 'left',)\n",
    "                      #indicator = True).drop(columns = '_merge')"
   ]
  },
  {
   "cell_type": "code",
   "execution_count": 51,
   "id": "0d8b09f2",
   "metadata": {},
   "outputs": [
    {
     "data": {
      "text/html": [
       "<div>\n",
       "<style scoped>\n",
       "    .dataframe tbody tr th:only-of-type {\n",
       "        vertical-align: middle;\n",
       "    }\n",
       "\n",
       "    .dataframe tbody tr th {\n",
       "        vertical-align: top;\n",
       "    }\n",
       "\n",
       "    .dataframe thead th {\n",
       "        text-align: right;\n",
       "    }\n",
       "</style>\n",
       "<table border=\"1\" class=\"dataframe\">\n",
       "  <thead>\n",
       "    <tr style=\"text-align: right;\">\n",
       "      <th></th>\n",
       "      <th>Account ID</th>\n",
       "      <th>Account Name</th>\n",
       "      <th>Company Name Cleaned</th>\n",
       "      <th>Website</th>\n",
       "      <th>Unnamed: 0</th>\n",
       "      <th>First Name</th>\n",
       "      <th>Last Name</th>\n",
       "      <th>Email</th>\n",
       "      <th>Phone</th>\n",
       "      <th>Company Name</th>\n",
       "    </tr>\n",
       "  </thead>\n",
       "  <tbody>\n",
       "    <tr>\n",
       "      <th>0</th>\n",
       "      <td>0014O000029352o</td>\n",
       "      <td>3D Systems</td>\n",
       "      <td>3d systems</td>\n",
       "      <td>www.3dsystems.com</td>\n",
       "      <td>245</td>\n",
       "      <td>Jagtar</td>\n",
       "      <td>Narula</td>\n",
       "      <td>jagtar.narula@3dsystems.com</td>\n",
       "      <td>NaN</td>\n",
       "      <td>3D Systems Corporation</td>\n",
       "    </tr>\n",
       "    <tr>\n",
       "      <th>1</th>\n",
       "      <td>0014O00002935Gu</td>\n",
       "      <td>84 Lumber Company</td>\n",
       "      <td>84 lumber company</td>\n",
       "      <td>www.84lumber.com</td>\n",
       "      <td>408</td>\n",
       "      <td>Paul</td>\n",
       "      <td>Lentz</td>\n",
       "      <td>paul.lentz@84lumber.com</td>\n",
       "      <td>(724) 228-8820 ext. 1442</td>\n",
       "      <td>84 Lumber Company</td>\n",
       "    </tr>\n",
       "    <tr>\n",
       "      <th>2</th>\n",
       "      <td>0014O0000292z7R</td>\n",
       "      <td>Accuride International</td>\n",
       "      <td>accuride international</td>\n",
       "      <td>www.accuride.com</td>\n",
       "      <td>222</td>\n",
       "      <td>Jeffrey</td>\n",
       "      <td>Dunlap</td>\n",
       "      <td>jdunlap@accuride.com</td>\n",
       "      <td>(562) 903-0200 ext. 1851</td>\n",
       "      <td>Accuride International</td>\n",
       "    </tr>\n",
       "    <tr>\n",
       "      <th>3</th>\n",
       "      <td>0014O0000292z2l</td>\n",
       "      <td>Acme Brick</td>\n",
       "      <td>acme brick</td>\n",
       "      <td>www.brick.com</td>\n",
       "      <td>769</td>\n",
       "      <td>Sue</td>\n",
       "      <td>Roundy</td>\n",
       "      <td>sroundy@brick.com</td>\n",
       "      <td>(817) 870-8211</td>\n",
       "      <td>Acme Brick</td>\n",
       "    </tr>\n",
       "    <tr>\n",
       "      <th>4</th>\n",
       "      <td>0014O0000292zYR</td>\n",
       "      <td>Advanced Drainage Systems</td>\n",
       "      <td>advanced drainage systems</td>\n",
       "      <td>www.ads-pipe.com</td>\n",
       "      <td>288</td>\n",
       "      <td>Scott</td>\n",
       "      <td>Cottrill</td>\n",
       "      <td>scott.cottrill@ads-pipe.com</td>\n",
       "      <td>(614) 658-0149</td>\n",
       "      <td>Advanced Drainage Systems Inc</td>\n",
       "    </tr>\n",
       "  </tbody>\n",
       "</table>\n",
       "</div>"
      ],
      "text/plain": [
       "        Account ID               Account Name       Company Name Cleaned  \\\n",
       "0  0014O000029352o                 3D Systems                 3d systems   \n",
       "1  0014O00002935Gu          84 Lumber Company          84 lumber company   \n",
       "2  0014O0000292z7R     Accuride International     accuride international   \n",
       "3  0014O0000292z2l                 Acme Brick                 acme brick   \n",
       "4  0014O0000292zYR  Advanced Drainage Systems  advanced drainage systems   \n",
       "\n",
       "             Website  Unnamed: 0 First Name Last Name  \\\n",
       "0  www.3dsystems.com         245     Jagtar    Narula   \n",
       "1   www.84lumber.com         408       Paul     Lentz   \n",
       "2   www.accuride.com         222    Jeffrey    Dunlap   \n",
       "3      www.brick.com         769        Sue    Roundy   \n",
       "4   www.ads-pipe.com         288      Scott  Cottrill   \n",
       "\n",
       "                         Email                     Phone  \\\n",
       "0  jagtar.narula@3dsystems.com                       NaN   \n",
       "1      paul.lentz@84lumber.com  (724) 228-8820 ext. 1442   \n",
       "2         jdunlap@accuride.com  (562) 903-0200 ext. 1851   \n",
       "3            sroundy@brick.com            (817) 870-8211   \n",
       "4  scott.cottrill@ads-pipe.com            (614) 658-0149   \n",
       "\n",
       "                    Company Name  \n",
       "0         3D Systems Corporation  \n",
       "1              84 Lumber Company  \n",
       "2         Accuride International  \n",
       "3                     Acme Brick  \n",
       "4  Advanced Drainage Systems Inc  "
      ]
     },
     "execution_count": 51,
     "metadata": {},
     "output_type": "execute_result"
    }
   ],
   "source": [
    "inner_company_T.head()"
   ]
  },
  {
   "cell_type": "code",
   "execution_count": 52,
   "id": "01b50005",
   "metadata": {},
   "outputs": [],
   "source": [
    "# Accounts that we have in our system\n",
    "\n",
    "inner_company_T.to_csv('output/old_accounts.csv') #Old accounts"
   ]
  },
  {
   "cell_type": "markdown",
   "id": "85014520",
   "metadata": {},
   "source": [
    "---"
   ]
  },
  {
   "cell_type": "markdown",
   "id": "435af1c5",
   "metadata": {},
   "source": [
    "# Concatenation function"
   ]
  },
  {
   "cell_type": "code",
   "execution_count": 53,
   "id": "7ab22966",
   "metadata": {},
   "outputs": [
    {
     "name": "stdout",
     "output_type": "stream",
     "text": [
      "0014O000029352o,0014O00002935Gu,0014O0000292z7R,0014O0000292z2l,0014O0000292zYR,0014O00002934Q4,001a000001RZDIG,0014O000025jnWr,0014O00002IdrpY,0014O00002938BV,0014O00002EtcCz,0014O000025jo4d,0014O00002933BZ,0014O0000292yeg,0014O0000293CRt,0014O00002938bH,0014O0000292xRz,0014O00002938EY,0011300001wDBSF,0014O0000292DZg,0014O000029338A,0014O00002IeaKy,0014O00002937yN,001a000001RZDMB,0014O00002IdrxM,0014O00002EuyFn,0014O0000293KKi,0014O00002Euy7o,0014O0000292zu2,0014O000025jo4Q,0014O00002Idrrk,0014O000025kB1a,0014O0000292xRV,0014O000029338D,0011300001uCMLD,0014O0000293KuF,0014O0000292zaA,001a000001RZDUu,0014O00002938FN,0011300001e3X1a,0014O00002LDqd4,0014O0000292y3N,0014O000025jmaF,001a000001RZDUz,0014O00002937ZQ,0014O00002LBgw6,0014O000025jqhS,0014O0000293L84,001a000001U9xuB,0014O00002938dy,0014O00002LCEx0,0014O00002938E9,0014O000029352x,0014O000025jme5,0014O00002Euzqt,001a000001RZDa9,001a000001TfuYj,0014O0000292yqE,0014O0000293KrB,001a000001Tfgr3  size :959\n",
      "0014O00002927tc,0014O00002Idrs4,0014O00002LCeuK,0014O0000292xR8,0014O00002938Ea,0014O0000293DTa,0014O00002935Am,0014O0000291UX0,0014O00002932YY,0014O00002K6Wo3,0014O0000292yOj,0014O00002934gF,0014O00002930hL,0014O00002K6HKx,0014O0000293Gnt,0014O0000293BOb,0014O0000293KaQ,0014O00002938gY,0014O0000292z1u,0014O00002LD7ma,0014O00002938U3,0014O0000292zDi,0014O000025jmR3,0014O0000292zOo,0014O000029380u,0014O00002LCOqc,0014O000025jd7i,0014O0000292ys3,0014O00002917rv,0014O0000293DWJ,0014O00002IdrxV,001a000001RZDiz,0014O00002Idrp9,0014O000029323Q,0014O00002937qw,001a000001RZDjk,0014O00002LDI3S,001a000001U9xzS,0014O00002937fg,0014O0000293Jj7,0014O00002934FF,0014O00002938Y1,0014O00002IdrpA,0014O0000292xW1,0014O0000292zuF,0014O0000292xRv,0014O000025jmkv,0014O00002EuzNp,0014O0000292jg9,001a000001Tfu9y,0014O00002937DK,0014O00002934zg,0014O0000293Ksb,0014O0000293LAi,0014O0000292ys0,0014O000025jmQ4,0011300001wDCAS,0014O0000291UYM,0014O00002927qb,0014O0000292xXd  size :959\n",
      "0014O00002937ci,0014O00002LCzE5,0014O00002938Wo,0014O00002LDSLL,0014O000025jn4N,0011300001tfbVi,0014O00002937KA,0014O0000293Hju,0014O00002934IJ,001a000001U9y1b,0014O00002LBlVc,0014O00002937HX,0014O0000291UYc,0014O0000293D7b,0014O00002IdrpJ,0014O00002933fs,0014O0000293D7n,0014O0000293Ct0,0011300001wDCIH,0014O00002IdrxZ,0014O000029384M,0011300001wDCKe,0014O00002IdrxO,0014O00002IfMFW,0014O000025jmmQ,0014O00002IdrxU,0014O00002LCyeJ,0014O0000293Hov,0011300001wDC9o,0014O00002LBkGN,0014O000029353Q,0014O0000291WG6,0014O0000292yAT,0014O00002930rm,0014O00002IdrxI,0014O00002934zK,0014O000025jmPk,0014O00002938Zj,0014O0000292xX0,0014O0000293J0o,0014O0000292yef,0014O00002933Zx,0014O00002IdrzU,001a000001Tfgek,0014O000029301O,0014O0000291UZk,0014O0000291UZl,0014O0000292zAB,0014O00002933WM,0014O0000293DWP,0014O0000291UZv,0014O0000291UZw,0014O00002Idrra,0014O0000292xQy,0014O00002934RH,0011300001uCMH6,0014O00002930BB,0014O0000293DkG,001a000001RZDNp,0014O0000293I7z  size :959\n",
      "0014O0000291UaD,0014O00002K6HJ8,0014O00002EtcA5,0014O00002LCRGY,0014O0000292xq2,0014O00002934nE,0011300001q7LqO,0014O00002938bp,0014O0000293Cxn,0014O00002927rx,0014O000025jqH3,0014O000029300W,0014O000029331Z,0014O00002938b8,0014O000025jmQm,0014O00002938Cw,0014O0000293Hgv,0014O00002931jm,0014O0000292yJN,0014O0000291UbH,0014O0000292xd3,0014O0000292yqb,0014O0000293Gnw,0014O00002937hh,0014O000029386x,0014O00002936ZM,0014O0000292z32,0014O00002933gD,0014O0000292y6j,0014O0000293GZT,0014O00002937RI,001a000001RZE1X,0014O00002Evwmc,0014O0000292yvc,0014O00002927pg,0014O0000292yCW,0014O000029302L,0014O00002917tk,0014O00002937v2,0014O0000292zYB,0014O000029354n,0014O0000293KJm,001a000001U9xrO,0014O0000293HwN,0014O0000292y5T,0014O00002937OG,0014O0000292xQx,0014O000025jqGn,0011B00001yE6Xv,0014O000029385V,0014O00002EuyAH,0014O00002934su,001a000001RZE4m,0014O0000292yZJ,0014O00002938Wv,0011300001uY8lb,0014O00002Ethc4,0014O00002K6Cvl,0014O00002937fe,0014O0000293Srb  size :959\n",
      "0014O00002938eE,0014O00002931Ys,0014O0000292yvU,0014O0000292xRd,0014O000025jmPz,0014O00002938gR,0011300001wDCs9,0014O00002917td,0014O00002927ra,0014O00002937Wb,001a000001TfuMW,0014O0000292xbQ,0014O00002933vW,0014O00002934sv,0014O00002930r6,001a000001RZE81,0014O00002LC2tH,0014O0000292zmL,0014O0000292ys8,0014O000029380s,0014O0000293DyX,0014O0000292xRD,0014O00002930vj,001a000001Tfgjj,0014O00002933YH,0014O00002EthSn,0014O000025jmo1,0014O0000292yBn,0014O00002938Vr,0014O0000292zor,0014O00002930nP,0014O000025jmo6,0014O00002917no,001a000001Tfgkt,0014O00002K6HJi,0014O0000293ENO,0014O0000292xQb,0014O0000293Hue,0014O000025josS,0014O0000291HXN,001a000001RZE9x,0014O0000293ICq,0014O00002930lO,0014O0000292z7Q,0014O00002LELNx,0014O0000292z2T,0014O00002933rU,0014O00002Idrxp,001a000001Tfu6V,0014O0000293G02,0014O00002935Kd,0014O000029358s,0014O00002LDSbU,0014O00002LE31p,0014O00002933RJ,0014O000029300r,0014O00002933Gh,0014O00002933i4,0014O00002927os,0014O00002937W0  size :959\n",
      "0014O0000293DWL,0014O00002IdrxQ,0011300001upkeQ,0014O0000292Dua,0014O0000292y2k,0011B00002F8VOH,0014O00002LE17r,0014O00002933Qp,0014O00002930JI,0014O000029353c,0014O00002LE1GI,0014O00002934Jr,0014O00002Idrxb,0014O000029352b,0014O000025jmol,0011300001wDDKL,0014O0000292zNS,0014O00002936pb,0014O00002Euy61,0014O0000293DiG,0014O00002938A9,0014O00002937eQ,0014O0000292yhv,0014O000025jnl2,0014O000029358N,0014O00002927rJ,0014O00002LE1UU,0014O000029354Q,0014O0000293ChR,001a000001Tfgrf,0014O00002932Wb,0014O00002927tJ,0014O0000293JhP,0014O0000292xo2,0014O0000293Hnn,0014O00002917w7,0014O0000292z2Q,0014O00002Ev0Dg,0014O000029386K,0014O00002933ga,0014O0000293Kfn,0014O0000293KuZ,0014O000029389v,0014O0000292zZY,0014O0000293CgL,0014O00002937fv,0014O00002Etheg,0014O0000292zOv,0014O00002938Ff,0014O00002Euzu3,0014O0000293Kyc,0014O00002934bQ,0014O00002932Z5,0014O00002917zN,0014O00002937Wd,0014O0000293I6I,0014O0000293L1i,0014O0000293323  size :927\n"
     ]
    }
   ],
   "source": [
    "# Getting the list of ID's\n",
    "for i in range(0, len(inner_company_T['Account ID'].drop_duplicates()), 60):\n",
    "   concat = ','.join(inner_company_T['Account ID'].drop_duplicates().tolist()[i:i+60])\n",
    "   print(concat, f\" size :{len(concat)}\")"
   ]
  },
  {
   "cell_type": "markdown",
   "id": "ded73ed5",
   "metadata": {},
   "source": [
    "---"
   ]
  },
  {
   "cell_type": "code",
   "execution_count": 54,
   "id": "f53b5dc5",
   "metadata": {},
   "outputs": [],
   "source": [
    "inner_company_T_list = inner_company_T['Company Name'].tolist()"
   ]
  },
  {
   "cell_type": "code",
   "execution_count": 55,
   "id": "79525cd6",
   "metadata": {},
   "outputs": [],
   "source": [
    "new_accounts = df3[~df3['Company Name'].isin(inner_company_T_list)].reset_index(drop=True)"
   ]
  },
  {
   "cell_type": "code",
   "execution_count": 63,
   "id": "01aa2776",
   "metadata": {},
   "outputs": [],
   "source": [
    "new_accounts.to_csv('output/new_accounts.csv', encoding='utf-8')"
   ]
  }
 ],
 "metadata": {
  "kernelspec": {
   "display_name": "Python 3 (ipykernel)",
   "language": "python",
   "name": "python3"
  },
  "language_info": {
   "codemirror_mode": {
    "name": "ipython",
    "version": 3
   },
   "file_extension": ".py",
   "mimetype": "text/x-python",
   "name": "python",
   "nbconvert_exporter": "python",
   "pygments_lexer": "ipython3",
   "version": "3.8.0"
  }
 },
 "nbformat": 4,
 "nbformat_minor": 5
}
