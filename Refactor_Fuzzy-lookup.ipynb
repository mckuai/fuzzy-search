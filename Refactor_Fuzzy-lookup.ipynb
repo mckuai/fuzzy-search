{
 "cells": [
  {
   "cell_type": "markdown",
   "id": "6a953974",
   "metadata": {},
   "source": [
    "# Fuzzy-Lookup"
   ]
  },
  {
   "cell_type": "code",
   "execution_count": 69,
   "id": "7d9fb70f",
   "metadata": {},
   "outputs": [],
   "source": [
    "# We import the libraries that we are goin to use. \n",
    "\n",
    "import numpy as np\n",
    "import pandas as pd\n",
    "from polyfuzz.models import TFIDF"
   ]
  },
  {
   "cell_type": "markdown",
   "id": "9c947c90",
   "metadata": {},
   "source": [
    "## Using the Account Name parameter"
   ]
  },
  {
   "cell_type": "markdown",
   "id": "e23af99a",
   "metadata": {},
   "source": [
    "### Cleansing the SF accounts"
   ]
  },
  {
   "cell_type": "code",
   "execution_count": 70,
   "id": "4714d6b3",
   "metadata": {},
   "outputs": [],
   "source": [
    "# We read the file that contains the SF Accounts.\n",
    "\n",
    "accounts_path = 'input/sf_accounts.csv'\n",
    "\n",
    "df2 = pd.read_csv(accounts_path).dropna(subset=['Account ID'])"
   ]
  },
  {
   "cell_type": "code",
   "execution_count": 71,
   "id": "fb5022b5",
   "metadata": {},
   "outputs": [
    {
     "data": {
      "text/html": [
       "<div>\n",
       "<style scoped>\n",
       "    .dataframe tbody tr th:only-of-type {\n",
       "        vertical-align: middle;\n",
       "    }\n",
       "\n",
       "    .dataframe tbody tr th {\n",
       "        vertical-align: top;\n",
       "    }\n",
       "\n",
       "    .dataframe thead th {\n",
       "        text-align: right;\n",
       "    }\n",
       "</style>\n",
       "<table border=\"1\" class=\"dataframe\">\n",
       "  <thead>\n",
       "    <tr style=\"text-align: right;\">\n",
       "      <th></th>\n",
       "      <th>Account Name</th>\n",
       "      <th>Website</th>\n",
       "      <th>Contact Count</th>\n",
       "      <th>Account ID</th>\n",
       "    </tr>\n",
       "  </thead>\n",
       "  <tbody>\n",
       "    <tr>\n",
       "      <th>0</th>\n",
       "      <td>BH Live</td>\n",
       "      <td>www.bhlive.org.uk</td>\n",
       "      <td>2.0</td>\n",
       "      <td>0011300001wDBbT</td>\n",
       "    </tr>\n",
       "    <tr>\n",
       "      <th>1</th>\n",
       "      <td>Future Tech Consultants</td>\n",
       "      <td>ftcny.com</td>\n",
       "      <td>0.0</td>\n",
       "      <td>0014O00002Euzlw</td>\n",
       "    </tr>\n",
       "    <tr>\n",
       "      <th>2</th>\n",
       "      <td>Gardiner &amp; Theobald</td>\n",
       "      <td>gardiner.com</td>\n",
       "      <td>1.0</td>\n",
       "      <td>0014O00002LDdDI</td>\n",
       "    </tr>\n",
       "    <tr>\n",
       "      <th>3</th>\n",
       "      <td>When I Work</td>\n",
       "      <td>www.wheniwork.com</td>\n",
       "      <td>16.0</td>\n",
       "      <td>0014O0000293FrM</td>\n",
       "    </tr>\n",
       "    <tr>\n",
       "      <th>4</th>\n",
       "      <td>United Incentives</td>\n",
       "      <td>www.unitedincentives.com</td>\n",
       "      <td>1.0</td>\n",
       "      <td>0014O0000293HCU</td>\n",
       "    </tr>\n",
       "  </tbody>\n",
       "</table>\n",
       "</div>"
      ],
      "text/plain": [
       "              Account Name                   Website  Contact Count  \\\n",
       "0                  BH Live         www.bhlive.org.uk            2.0   \n",
       "1  Future Tech Consultants                 ftcny.com            0.0   \n",
       "2      Gardiner & Theobald              gardiner.com            1.0   \n",
       "3              When I Work         www.wheniwork.com           16.0   \n",
       "4        United Incentives  www.unitedincentives.com            1.0   \n",
       "\n",
       "        Account ID  \n",
       "0  0011300001wDBbT  \n",
       "1  0014O00002Euzlw  \n",
       "2  0014O00002LDdDI  \n",
       "3  0014O0000293FrM  \n",
       "4  0014O0000293HCU  "
      ]
     },
     "execution_count": 71,
     "metadata": {},
     "output_type": "execute_result"
    }
   ],
   "source": [
    "df2.head()"
   ]
  },
  {
   "cell_type": "code",
   "execution_count": 72,
   "id": "28a70ac7",
   "metadata": {},
   "outputs": [],
   "source": [
    "# We stablish the strange symbols and patters that we are going to remove. \n",
    "\n",
    "a = '[^a-z0-9\\s]| inc| plc| llc| ltd| llp| limited| group| corporation| uk'"
   ]
  },
  {
   "cell_type": "code",
   "execution_count": 73,
   "id": "2156fb2c",
   "metadata": {},
   "outputs": [],
   "source": [
    "# We create a new Account Name column to clean it.\n",
    "# We remove those symbols and patters from the Account Name Cleaned column.\n",
    "# We replace the empty strings with NaN values in the Account Name Cleaned column.\n",
    "\n",
    "df2['Account Name Cleaned'] = df2['Account Name']\n",
    "df2['Account Name Cleaned'] = df2['Account Name Cleaned'].str.lower().str.replace(a, '', regex=True).str.strip()\n",
    "df2['Account Name Cleaned'] = df2['Account Name Cleaned'].replace('', np.nan)"
   ]
  },
  {
   "cell_type": "code",
   "execution_count": 74,
   "id": "24aefc81",
   "metadata": {},
   "outputs": [],
   "source": [
    "# We create a DataFrame without NaN values in the Account Name Cleaned column. \n",
    "# We sort by Account Name Cleaned and Contact Count.\n",
    "# We drop duplicates in the Account Name Cleaned column and we keep the first one. \n",
    "\n",
    "df2_account = df2.dropna(subset=['Account Name Cleaned'])\n",
    "df2_account = df2_account.sort_values(by=['Account Name Cleaned', 'Contact Count'], ascending=[True, False])\n",
    "df2_account = df2_account.drop_duplicates(subset='Account Name Cleaned', keep='first')"
   ]
  },
  {
   "cell_type": "code",
   "execution_count": 75,
   "id": "49534706",
   "metadata": {},
   "outputs": [],
   "source": [
    "# We create a list with the Account Name Cleaned values. \n",
    "\n",
    "df2_account_list = df2_account['Account Name Cleaned'].tolist()"
   ]
  },
  {
   "cell_type": "markdown",
   "id": "bd671407",
   "metadata": {},
   "source": [
    "### Cleansing the external companies"
   ]
  },
  {
   "cell_type": "code",
   "execution_count": 76,
   "id": "01f2a367",
   "metadata": {},
   "outputs": [],
   "source": [
    "# We read the file that contains the external accounts. \n",
    "\n",
    "ext_data_path = 'input/ext_data.csv'\n",
    "\n",
    "df3 = pd.read_csv(ext_data_path, encoding=\"latin-1\")\n"
   ]
  },
  {
   "cell_type": "code",
   "execution_count": 77,
   "id": "da27c7b4",
   "metadata": {},
   "outputs": [],
   "source": [
    "# We create a new Account Name column to clean it.\n",
    "# We remove those symbols and patters from the Account Name Cleaned column.\n",
    "# We replace the empty strings with NaN values in the Account Name Cleaned column.\n",
    "\n",
    "df3['Company Name Cleaned'] = df3['Company Name']\n",
    "df3['Company Name Cleaned'] = df3['Company Name Cleaned'].str.lower().str.replace(a, '', regex=True).str.strip()\n",
    "df3['Company Name Cleaned'] = df3['Company Name Cleaned'].fillna(' ')"
   ]
  },
  {
   "cell_type": "code",
   "execution_count": 78,
   "id": "d2a56942",
   "metadata": {},
   "outputs": [
    {
     "data": {
      "text/html": [
       "<div>\n",
       "<style scoped>\n",
       "    .dataframe tbody tr th:only-of-type {\n",
       "        vertical-align: middle;\n",
       "    }\n",
       "\n",
       "    .dataframe tbody tr th {\n",
       "        vertical-align: top;\n",
       "    }\n",
       "\n",
       "    .dataframe thead th {\n",
       "        text-align: right;\n",
       "    }\n",
       "</style>\n",
       "<table border=\"1\" class=\"dataframe\">\n",
       "  <thead>\n",
       "    <tr style=\"text-align: right;\">\n",
       "      <th></th>\n",
       "      <th>Prority</th>\n",
       "      <th>Status</th>\n",
       "      <th>Account Manager</th>\n",
       "      <th>Company Name</th>\n",
       "      <th>Vertical</th>\n",
       "      <th>Turnover (000)</th>\n",
       "      <th>Employee</th>\n",
       "      <th>Customer</th>\n",
       "      <th>Key Prospects</th>\n",
       "      <th>Company Name Cleaned</th>\n",
       "    </tr>\n",
       "  </thead>\n",
       "  <tbody>\n",
       "    <tr>\n",
       "      <th>0</th>\n",
       "      <td>NaN</td>\n",
       "      <td>New Bus</td>\n",
       "      <td>Daniel Willacy</td>\n",
       "      <td>Arrow XL</td>\n",
       "      <td>Logistics</td>\n",
       "      <td>481,505</td>\n",
       "      <td>1,136</td>\n",
       "      <td>NaN</td>\n",
       "      <td>NaN</td>\n",
       "      <td>arrow xl</td>\n",
       "    </tr>\n",
       "    <tr>\n",
       "      <th>1</th>\n",
       "      <td>NaN</td>\n",
       "      <td>New Bus</td>\n",
       "      <td>Daniel Willacy</td>\n",
       "      <td>Aryzta Bakeries UK</td>\n",
       "      <td>FMCG</td>\n",
       "      <td>834,000</td>\n",
       "      <td>2394</td>\n",
       "      <td>Yes</td>\n",
       "      <td>NaN</td>\n",
       "      <td>aryzta bakeries</td>\n",
       "    </tr>\n",
       "    <tr>\n",
       "      <th>2</th>\n",
       "      <td>Priority 1</td>\n",
       "      <td>New Bus</td>\n",
       "      <td>Daniel Willacy</td>\n",
       "      <td>Burtons Foods Group</td>\n",
       "      <td>FMCG</td>\n",
       "      <td>232,791</td>\n",
       "      <td>1771</td>\n",
       "      <td>Yes</td>\n",
       "      <td>Yes</td>\n",
       "      <td>burtons foods</td>\n",
       "    </tr>\n",
       "    <tr>\n",
       "      <th>3</th>\n",
       "      <td>Priority 1</td>\n",
       "      <td>New Bus</td>\n",
       "      <td>Daniel Willacy</td>\n",
       "      <td>Certegy</td>\n",
       "      <td>Finance</td>\n",
       "      <td>No Data</td>\n",
       "      <td>No Data</td>\n",
       "      <td>Yes</td>\n",
       "      <td>Yes</td>\n",
       "      <td>certegy</td>\n",
       "    </tr>\n",
       "    <tr>\n",
       "      <th>4</th>\n",
       "      <td>NaN</td>\n",
       "      <td>New Bus</td>\n",
       "      <td>Daniel Willacy</td>\n",
       "      <td>Delice de France</td>\n",
       "      <td>Retail/ Food</td>\n",
       "      <td>72,487,849</td>\n",
       "      <td>338</td>\n",
       "      <td>NaN</td>\n",
       "      <td>NaN</td>\n",
       "      <td>delice de france</td>\n",
       "    </tr>\n",
       "  </tbody>\n",
       "</table>\n",
       "</div>"
      ],
      "text/plain": [
       "      Prority   Status Account Manager           Company Name      Vertical  \\\n",
       "0         NaN  New Bus  Daniel Willacy              Arrow XL     Logistics    \n",
       "1         NaN  New Bus  Daniel Willacy     Aryzta Bakeries UK          FMCG   \n",
       "2  Priority 1  New Bus  Daniel Willacy  Burtons Foods Group           FMCG   \n",
       "3  Priority 1  New Bus  Daniel Willacy               Certegy       Finance    \n",
       "4         NaN  New Bus  Daniel Willacy      Delice de France   Retail/ Food   \n",
       "\n",
       "  Turnover (000) Employee Customer Key Prospects Company Name Cleaned  \n",
       "0        481,505    1,136      NaN           NaN             arrow xl  \n",
       "1        834,000     2394      Yes           NaN      aryzta bakeries  \n",
       "2        232,791     1771      Yes           Yes        burtons foods  \n",
       "3        No Data  No Data      Yes           Yes              certegy  \n",
       "4     72,487,849      338      NaN           NaN     delice de france  "
      ]
     },
     "execution_count": 78,
     "metadata": {},
     "output_type": "execute_result"
    }
   ],
   "source": [
    "df3.head()"
   ]
  },
  {
   "cell_type": "code",
   "execution_count": 79,
   "id": "9e909531",
   "metadata": {},
   "outputs": [],
   "source": [
    "# We create a list with the Account Name Cleaned values and we drop the duplicates. \n",
    "\n",
    "df3_company_list = df3.drop_duplicates(subset='Company Name Cleaned', keep='first')['Company Name Cleaned'].tolist()"
   ]
  },
  {
   "cell_type": "code",
   "execution_count": 80,
   "id": "95789cc9",
   "metadata": {},
   "outputs": [
    {
     "data": {
      "text/plain": [
       "['arrow xl', 'aryzta bakeries', 'burtons foods', 'certegy', 'delice de france']"
      ]
     },
     "execution_count": 80,
     "metadata": {},
     "output_type": "execute_result"
    }
   ],
   "source": [
    "df3_company_list[:5]"
   ]
  },
  {
   "cell_type": "code",
   "execution_count": 81,
   "id": "3aec0c19",
   "metadata": {},
   "outputs": [],
   "source": [
    "# We use the model 'TF-IDF' from the PolyFuzz library.\n",
    "# Changing Parameters to be used on large Data\n",
    "model = TFIDF(n_gram_range=(2,2), clean_string=True, min_similarity=0.95, cosine_method='sparse', top_n=1)"
   ]
  },
  {
   "cell_type": "code",
   "execution_count": 82,
   "id": "8a43dc9a",
   "metadata": {},
   "outputs": [],
   "source": [
    "#Saving results of model\n",
    "# Main part of the Fuzzy search\n",
    "result = model.match(df3_company_list, df2_account_list)"
   ]
  },
  {
   "cell_type": "markdown",
   "id": "f1bb845b",
   "metadata": {},
   "source": [
    "---"
   ]
  },
  {
   "cell_type": "code",
   "execution_count": 83,
   "id": "8e788906",
   "metadata": {},
   "outputs": [
    {
     "data": {
      "text/html": [
       "<div>\n",
       "<style scoped>\n",
       "    .dataframe tbody tr th:only-of-type {\n",
       "        vertical-align: middle;\n",
       "    }\n",
       "\n",
       "    .dataframe tbody tr th {\n",
       "        vertical-align: top;\n",
       "    }\n",
       "\n",
       "    .dataframe thead th {\n",
       "        text-align: right;\n",
       "    }\n",
       "</style>\n",
       "<table border=\"1\" class=\"dataframe\">\n",
       "  <thead>\n",
       "    <tr style=\"text-align: right;\">\n",
       "      <th></th>\n",
       "      <th>From</th>\n",
       "      <th>To</th>\n",
       "      <th>Similarity</th>\n",
       "    </tr>\n",
       "  </thead>\n",
       "  <tbody>\n",
       "    <tr>\n",
       "      <th>0</th>\n",
       "      <td>arrow xl</td>\n",
       "      <td>arrow xl</td>\n",
       "      <td>1.0</td>\n",
       "    </tr>\n",
       "    <tr>\n",
       "      <th>1</th>\n",
       "      <td>aryzta bakeries</td>\n",
       "      <td>None</td>\n",
       "      <td>0.0</td>\n",
       "    </tr>\n",
       "    <tr>\n",
       "      <th>2</th>\n",
       "      <td>burtons foods</td>\n",
       "      <td>None</td>\n",
       "      <td>0.0</td>\n",
       "    </tr>\n",
       "    <tr>\n",
       "      <th>3</th>\n",
       "      <td>certegy</td>\n",
       "      <td>None</td>\n",
       "      <td>0.0</td>\n",
       "    </tr>\n",
       "    <tr>\n",
       "      <th>4</th>\n",
       "      <td>delice de france</td>\n",
       "      <td>None</td>\n",
       "      <td>0.0</td>\n",
       "    </tr>\n",
       "  </tbody>\n",
       "</table>\n",
       "</div>"
      ],
      "text/plain": [
       "               From        To  Similarity\n",
       "0          arrow xl  arrow xl         1.0\n",
       "1   aryzta bakeries      None         0.0\n",
       "2     burtons foods      None         0.0\n",
       "3           certegy      None         0.0\n",
       "4  delice de france      None         0.0"
      ]
     },
     "execution_count": 83,
     "metadata": {},
     "output_type": "execute_result"
    }
   ],
   "source": [
    "result.head()"
   ]
  },
  {
   "cell_type": "code",
   "execution_count": 84,
   "id": "3eea70e8",
   "metadata": {},
   "outputs": [],
   "source": [
    "# We create a DataFrame that contains similarity > .95\n",
    "\n",
    "old_account = result[result['Similarity'] > .95].reset_index(drop=True)\n",
    "old_account = old_account.rename({'From': 'Account Name Cleaned', 'To': 'Company Name Cleaned'}, axis=1)"
   ]
  },
  {
   "cell_type": "code",
   "execution_count": 85,
   "id": "a1ad154b",
   "metadata": {},
   "outputs": [],
   "source": [
    "# old_account['T/F'] = old_account['Account Name Cleaned'] == old_account['Company Name Cleaned']\n",
    "\n",
    "old_account['T/F'] = np.where(old_account['Similarity'] >= 0.98, True, False)\n"
   ]
  },
  {
   "cell_type": "markdown",
   "id": "42559324",
   "metadata": {},
   "source": [
    "---"
   ]
  },
  {
   "cell_type": "code",
   "execution_count": 86,
   "id": "f9de1fb3",
   "metadata": {},
   "outputs": [],
   "source": [
    "old_account['string_based'] = old_account['Account Name Cleaned'] == old_account['Company Name Cleaned']\n",
    "old_account['len'] = old_account['Company Name Cleaned'].apply(lambda x: len(x))"
   ]
  },
  {
   "cell_type": "markdown",
   "id": "db118084",
   "metadata": {},
   "source": [
    "---"
   ]
  },
  {
   "cell_type": "code",
   "execution_count": 87,
   "id": "6c2e4d33",
   "metadata": {},
   "outputs": [],
   "source": [
    "old_account = old_account.sort_values(by=['T/F'], ascending=True).reset_index(drop=True)"
   ]
  },
  {
   "cell_type": "code",
   "execution_count": 88,
   "id": "90067a94",
   "metadata": {},
   "outputs": [],
   "source": [
    "old_account.to_csv('output/old_account_check.csv', index=False)"
   ]
  },
  {
   "cell_type": "markdown",
   "id": "428d00a3",
   "metadata": {
    "scrolled": true
   },
   "source": [
    "exit()"
   ]
  },
  {
   "cell_type": "code",
   "execution_count": 89,
   "id": "e988cc34",
   "metadata": {},
   "outputs": [],
   "source": [
    "old_account = pd.read_csv('output/old_account_check.csv')"
   ]
  },
  {
   "cell_type": "markdown",
   "id": "247e45a3",
   "metadata": {},
   "source": [
    "---"
   ]
  },
  {
   "cell_type": "code",
   "execution_count": 90,
   "id": "1324773a",
   "metadata": {},
   "outputs": [
    {
     "data": {
      "text/html": [
       "<div>\n",
       "<style scoped>\n",
       "    .dataframe tbody tr th:only-of-type {\n",
       "        vertical-align: middle;\n",
       "    }\n",
       "\n",
       "    .dataframe tbody tr th {\n",
       "        vertical-align: top;\n",
       "    }\n",
       "\n",
       "    .dataframe thead th {\n",
       "        text-align: right;\n",
       "    }\n",
       "</style>\n",
       "<table border=\"1\" class=\"dataframe\">\n",
       "  <thead>\n",
       "    <tr style=\"text-align: right;\">\n",
       "      <th></th>\n",
       "      <th>Account Name Cleaned</th>\n",
       "      <th>Company Name Cleaned</th>\n",
       "      <th>Similarity</th>\n",
       "      <th>T/F</th>\n",
       "      <th>string_based</th>\n",
       "      <th>len</th>\n",
       "    </tr>\n",
       "  </thead>\n",
       "  <tbody>\n",
       "    <tr>\n",
       "      <th>6</th>\n",
       "      <td>bellway p l c</td>\n",
       "      <td>bellway</td>\n",
       "      <td>1.0</td>\n",
       "      <td>True</td>\n",
       "      <td>False</td>\n",
       "      <td>7</td>\n",
       "    </tr>\n",
       "  </tbody>\n",
       "</table>\n",
       "</div>"
      ],
      "text/plain": [
       "  Account Name Cleaned Company Name Cleaned  Similarity   T/F  string_based  \\\n",
       "6        bellway p l c              bellway         1.0  True         False   \n",
       "\n",
       "   len  \n",
       "6    7  "
      ]
     },
     "execution_count": 90,
     "metadata": {},
     "output_type": "execute_result"
    }
   ],
   "source": [
    "old_account.loc[(old_account['T/F'] != old_account['string_based']) & (old_account['len'] <= 20)].sort_values(by='len')"
   ]
  },
  {
   "cell_type": "code",
   "execution_count": 91,
   "id": "6e3ea5a5",
   "metadata": {},
   "outputs": [],
   "source": [
    "old_account_T = old_account[old_account['T/F'] == True].reset_index(drop='True')\n",
    "old_account_F = old_account[old_account['T/F'] == False].reset_index(drop='True')"
   ]
  },
  {
   "cell_type": "code",
   "execution_count": 92,
   "id": "a157407c",
   "metadata": {},
   "outputs": [
    {
     "data": {
      "text/html": [
       "<div>\n",
       "<style scoped>\n",
       "    .dataframe tbody tr th:only-of-type {\n",
       "        vertical-align: middle;\n",
       "    }\n",
       "\n",
       "    .dataframe tbody tr th {\n",
       "        vertical-align: top;\n",
       "    }\n",
       "\n",
       "    .dataframe thead th {\n",
       "        text-align: right;\n",
       "    }\n",
       "</style>\n",
       "<table border=\"1\" class=\"dataframe\">\n",
       "  <thead>\n",
       "    <tr style=\"text-align: right;\">\n",
       "      <th></th>\n",
       "      <th>Account Name Cleaned</th>\n",
       "      <th>Company Name Cleaned</th>\n",
       "      <th>Similarity</th>\n",
       "      <th>T/F</th>\n",
       "      <th>string_based</th>\n",
       "      <th>len</th>\n",
       "    </tr>\n",
       "  </thead>\n",
       "  <tbody>\n",
       "    <tr>\n",
       "      <th>0</th>\n",
       "      <td>arrow xl</td>\n",
       "      <td>arrow xl</td>\n",
       "      <td>1.0</td>\n",
       "      <td>True</td>\n",
       "      <td>True</td>\n",
       "      <td>8</td>\n",
       "    </tr>\n",
       "    <tr>\n",
       "      <th>1</th>\n",
       "      <td>brother international europe</td>\n",
       "      <td>brother international europe</td>\n",
       "      <td>1.0</td>\n",
       "      <td>True</td>\n",
       "      <td>True</td>\n",
       "      <td>28</td>\n",
       "    </tr>\n",
       "    <tr>\n",
       "      <th>2</th>\n",
       "      <td>bellway p l c</td>\n",
       "      <td>bellway</td>\n",
       "      <td>1.0</td>\n",
       "      <td>True</td>\n",
       "      <td>False</td>\n",
       "      <td>7</td>\n",
       "    </tr>\n",
       "    <tr>\n",
       "      <th>3</th>\n",
       "      <td>auto trader</td>\n",
       "      <td>auto trader</td>\n",
       "      <td>1.0</td>\n",
       "      <td>True</td>\n",
       "      <td>True</td>\n",
       "      <td>11</td>\n",
       "    </tr>\n",
       "    <tr>\n",
       "      <th>4</th>\n",
       "      <td>adidas uk</td>\n",
       "      <td>adidas uk</td>\n",
       "      <td>1.0</td>\n",
       "      <td>True</td>\n",
       "      <td>True</td>\n",
       "      <td>9</td>\n",
       "    </tr>\n",
       "  </tbody>\n",
       "</table>\n",
       "</div>"
      ],
      "text/plain": [
       "           Account Name Cleaned          Company Name Cleaned  Similarity  \\\n",
       "0                      arrow xl                      arrow xl         1.0   \n",
       "1  brother international europe  brother international europe         1.0   \n",
       "2                 bellway p l c                       bellway         1.0   \n",
       "3                   auto trader                   auto trader         1.0   \n",
       "4                     adidas uk                     adidas uk         1.0   \n",
       "\n",
       "    T/F  string_based  len  \n",
       "0  True          True    8  \n",
       "1  True          True   28  \n",
       "2  True         False    7  \n",
       "3  True          True   11  \n",
       "4  True          True    9  "
      ]
     },
     "execution_count": 92,
     "metadata": {},
     "output_type": "execute_result"
    }
   ],
   "source": [
    "old_account_T.head()"
   ]
  },
  {
   "cell_type": "code",
   "execution_count": 93,
   "id": "ccfa4eb0",
   "metadata": {},
   "outputs": [],
   "source": [
    "inner_account_T = pd.merge(df2_account,\n",
    "                      old_account_T,\n",
    "                      on = 'Account Name Cleaned',\n",
    "                      how = 'inner',)\n",
    "                      #indicator = True).drop(columns = '_merge')"
   ]
  },
  {
   "cell_type": "code",
   "execution_count": 94,
   "id": "7e73846e",
   "metadata": {},
   "outputs": [],
   "source": [
    "inner_account_T = inner_account_T[['Account ID', 'Account Name', 'Company Name Cleaned', 'Website']]"
   ]
  },
  {
   "cell_type": "code",
   "execution_count": 95,
   "id": "bc8a0d20",
   "metadata": {},
   "outputs": [],
   "source": [
    "inner_company_T = pd.merge(inner_account_T,\n",
    "                      df3,\n",
    "                      on = 'Company Name Cleaned',\n",
    "                      how = 'inner',\n",
    "                      indicator = True).drop(columns = '_merge')"
   ]
  },
  {
   "cell_type": "code",
   "execution_count": 96,
   "id": "01b50005",
   "metadata": {},
   "outputs": [],
   "source": [
    "# Accounts that we have in our system\n",
    "\n",
    "inner_company_T.to_csv('output/old_accounts.csv') #Old accounts"
   ]
  },
  {
   "cell_type": "markdown",
   "id": "85014520",
   "metadata": {},
   "source": [
    "---"
   ]
  },
  {
   "cell_type": "markdown",
   "id": "435af1c5",
   "metadata": {},
   "source": [
    "# Concatenation function"
   ]
  },
  {
   "cell_type": "code",
   "execution_count": 97,
   "id": "7ab22966",
   "metadata": {},
   "outputs": [
    {
     "name": "stdout",
     "output_type": "stream",
     "text": [
      "0011300001wDBNf,001a000001RZDIE,0011300001wDBPR,0011300001wDBQH,0014O00002FeVRf,001a000001RZDO3,001a000001RZDPL,0011300001uV2cg,0014O000025jmPg,0014O00002LBXVV,001a000001XXLVB,001a000001RZDXJ,001a000001RZDZE,001a000001U9xv9,0014O0000293CUA,001a000001RZDbo,0014O00002LD8pc,0014O00002LD7mX,0014O00002FfDFw,0014O00002LCNN0,0014O000025jo8E,001a000001RZDhL,0011300001wDBz8,0014O000029358B,001a000001TfszS,001a000001RZDpM,0011300001wDC21,0011300001wDC2h,0011300001wDC3x,0014O00002K70mK,0014O000025jpl0,001a000001RZDmB,0011300001wDC6z,0014O00002LDLrL,0011300001wDC7z,0011300001wDC9E,001a000001RZDoG,0014O000025jnI1,0014O000025kB45,001a000001RZDqU,0014O0000293CfL,001a000001U9y36,001a000001RZDuH,001a000001XXLXb,0011300001wDCQB,0014O00002920yl,001a000001TfuEA,001a000001RZDwA,0014O00002LDdDA,0014O000025jn9Y,001a000001RZDxm,001a000001U9y6K,0014O00002LBpxa,0011300001wDDc9,001a000001RZDzR,001a000001RZDzT,0014O000025jpat,001a000001U9y7V,001a000001Tfuam,0014O00002FeJID  size :959\n",
      "001a000001U9y7W,001a000001RZE0J,001a000001U9y7r,0011300001ge9xZ,0011300001wDCg9,0011300001wDCgI,001a000001RZE19,0014O00002LBrU0,0011300001jppHu,0011300001wDClS,001a000001RZE4m,001a000001RZE4w,001a000001RZE56,0011300001rooO0,0014O000025jpUM,0011300001wDCqY,0011300001wDCtD,0011300001wDCtK,0011300001wDCtK,0011300001wDCu1,001a000001U9yBV,0014O00002LBZ2p,001a000001RZE88,001a000001TfuAo,001a000001U9yBs,001a000001TfgjK,001a000001TfgjK,001a000001TfuRA,0011300001x6IIg,0014O000025jnpe,0011300001wDCzJ,001a000001TfgkD,0011300001wDD06,0011300001up8nF,0011300001wDD1F,0011300001wDD27,001a000001RZE9u,001a000001RZEA9,0014O00002LD7mg,0011300001sJdYf,0014O00002K5oTS,001a000001TfuS5,001a000001RZEAX,0014O00002FeLt4,0011300001wDBRj,0014O0000292jiJ,001a000001TfuDp,0014O00002EvIf7,0011300001hnMKk,0011B00002EMrbp,0014O0000291BpH,0014O00002EtnOR,0011300001wDDM2,001a000001RZECD,001a000001TfgrY,0011300001wDDPz,0014O00002LCf0j,0014O000025jnRV,001a000001RZEDA,001a000001RZEDI  size :959\n",
      "0014O00002FeJJ8,001a000001U9yJT  size :31\n"
     ]
    }
   ],
   "source": [
    "# Getting the list of ID's\n",
    "for i in range(0, len(inner_company_T['Account ID']), 60):\n",
    "   concat = ','.join(inner_company_T['Account ID'].tolist()[i:i+60])\n",
    "   print(concat, f\" size :{len(concat)}\")"
   ]
  },
  {
   "cell_type": "markdown",
   "id": "ded73ed5",
   "metadata": {},
   "source": [
    "---"
   ]
  },
  {
   "cell_type": "code",
   "execution_count": 98,
   "id": "f53b5dc5",
   "metadata": {},
   "outputs": [],
   "source": [
    "inner_company_T_list = inner_company_T['Company Name'].tolist()"
   ]
  },
  {
   "cell_type": "code",
   "execution_count": 99,
   "id": "79525cd6",
   "metadata": {},
   "outputs": [],
   "source": [
    "new_accounts = df3[~df3['Company Name'].isin(inner_company_T_list)].reset_index(drop=True)"
   ]
  },
  {
   "cell_type": "code",
   "execution_count": 100,
   "id": "01aa2776",
   "metadata": {},
   "outputs": [],
   "source": [
    "new_accounts.to_csv('/mnt/d/rafa_code/fuzzy-search/output/new_accounts.csv')"
   ]
  },
  {
   "cell_type": "markdown",
   "id": "f6ed10cf",
   "metadata": {},
   "source": [
    "## Using the Website parameter"
   ]
  },
  {
   "cell_type": "markdown",
   "id": "75f00c19",
   "metadata": {},
   "source": [
    "\n",
    "\n",
    "### Cleansing the old-new DataFrame"
   ]
  },
  {
   "cell_type": "markdown",
   "id": "0a50012a",
   "metadata": {},
   "source": []
  },
  {
   "cell_type": "markdown",
   "id": "f9145471",
   "metadata": {},
   "source": []
  }
 ],
 "metadata": {
  "kernelspec": {
   "display_name": "Python 3 (ipykernel)",
   "language": "python",
   "name": "python3"
  },
  "language_info": {
   "codemirror_mode": {
    "name": "ipython",
    "version": 3
   },
   "file_extension": ".py",
   "mimetype": "text/x-python",
   "name": "python",
   "nbconvert_exporter": "python",
   "pygments_lexer": "ipython3",
   "version": "3.8.0"
  }
 },
 "nbformat": 4,
 "nbformat_minor": 5
}
