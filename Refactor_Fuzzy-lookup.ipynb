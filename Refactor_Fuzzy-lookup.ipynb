{
 "cells": [
  {
   "cell_type": "markdown",
   "id": "6a953974",
   "metadata": {},
   "source": [
    "# Fuzzy-Lookup"
   ]
  },
  {
   "cell_type": "code",
   "execution_count": 1,
   "id": "7d9fb70f",
   "metadata": {},
   "outputs": [
    {
     "name": "stderr",
     "output_type": "stream",
     "text": [
      "/home/rafapointco/anaconda3/envs/fuzzymatch/lib/python3.8/site-packages/torch/cuda/__init__.py:52: UserWarning: CUDA initialization: Found no NVIDIA driver on your system. Please check that you have an NVIDIA GPU and installed a driver from http://www.nvidia.com/Download/index.aspx (Triggered internally at  /pytorch/c10/cuda/CUDAFunctions.cpp:100.)\n",
      "  return torch._C._cuda_getDeviceCount() > 0\n"
     ]
    }
   ],
   "source": [
    "# We import the libraries that we are goin to use. \n",
    "\n",
    "import numpy as np\n",
    "import pandas as pd\n",
    "from polyfuzz.models import TFIDF"
   ]
  },
  {
   "cell_type": "markdown",
   "id": "9c947c90",
   "metadata": {},
   "source": [
    "## Using the Account Name parameter"
   ]
  },
  {
   "cell_type": "markdown",
   "id": "e23af99a",
   "metadata": {},
   "source": [
    "### Cleansing the SF accounts"
   ]
  },
  {
   "cell_type": "code",
   "execution_count": 34,
   "id": "4714d6b3",
   "metadata": {},
   "outputs": [],
   "source": [
    "# We read the file that contains the SF Accounts.\n",
    "\n",
    "accounts_path = 'input/sf_accounts.csv'\n",
    "\n",
    "df2 = pd.read_csv(accounts_path).dropna(subset=['Account ID'])"
   ]
  },
  {
   "cell_type": "code",
   "execution_count": 35,
   "id": "fb5022b5",
   "metadata": {},
   "outputs": [
    {
     "data": {
      "text/html": [
       "<div>\n",
       "<style scoped>\n",
       "    .dataframe tbody tr th:only-of-type {\n",
       "        vertical-align: middle;\n",
       "    }\n",
       "\n",
       "    .dataframe tbody tr th {\n",
       "        vertical-align: top;\n",
       "    }\n",
       "\n",
       "    .dataframe thead th {\n",
       "        text-align: right;\n",
       "    }\n",
       "</style>\n",
       "<table border=\"1\" class=\"dataframe\">\n",
       "  <thead>\n",
       "    <tr style=\"text-align: right;\">\n",
       "      <th></th>\n",
       "      <th>Account Name</th>\n",
       "      <th>Website</th>\n",
       "      <th>Contact Count</th>\n",
       "      <th>Account ID</th>\n",
       "    </tr>\n",
       "  </thead>\n",
       "  <tbody>\n",
       "    <tr>\n",
       "      <th>0</th>\n",
       "      <td>BH Live</td>\n",
       "      <td>www.bhlive.org.uk</td>\n",
       "      <td>2.0</td>\n",
       "      <td>0011300001wDBbT</td>\n",
       "    </tr>\n",
       "    <tr>\n",
       "      <th>1</th>\n",
       "      <td>Five Star Bank</td>\n",
       "      <td>www.five-starbank.com</td>\n",
       "      <td>3.0</td>\n",
       "      <td>0014O00002Euy8z</td>\n",
       "    </tr>\n",
       "    <tr>\n",
       "      <th>2</th>\n",
       "      <td>Nubank</td>\n",
       "      <td>www.nubank.com.br</td>\n",
       "      <td>1.0</td>\n",
       "      <td>0014O00002LDg27</td>\n",
       "    </tr>\n",
       "    <tr>\n",
       "      <th>3</th>\n",
       "      <td>KTH Parts Industries</td>\n",
       "      <td>www.kth.net</td>\n",
       "      <td>2.0</td>\n",
       "      <td>0014O0000293Dej</td>\n",
       "    </tr>\n",
       "    <tr>\n",
       "      <th>4</th>\n",
       "      <td>Waverley School</td>\n",
       "      <td>NaN</td>\n",
       "      <td>2.0</td>\n",
       "      <td>0014O00002EtXjJ</td>\n",
       "    </tr>\n",
       "  </tbody>\n",
       "</table>\n",
       "</div>"
      ],
      "text/plain": [
       "           Account Name                Website  Contact Count       Account ID\n",
       "0               BH Live      www.bhlive.org.uk            2.0  0011300001wDBbT\n",
       "1        Five Star Bank  www.five-starbank.com            3.0  0014O00002Euy8z\n",
       "2                Nubank      www.nubank.com.br            1.0  0014O00002LDg27\n",
       "3  KTH Parts Industries            www.kth.net            2.0  0014O0000293Dej\n",
       "4       Waverley School                    NaN            2.0  0014O00002EtXjJ"
      ]
     },
     "execution_count": 35,
     "metadata": {},
     "output_type": "execute_result"
    }
   ],
   "source": [
    "df2.head()"
   ]
  },
  {
   "cell_type": "code",
   "execution_count": 36,
   "id": "28a70ac7",
   "metadata": {},
   "outputs": [],
   "source": [
    "# We stablish the strange symbols and patters that we are going to remove. \n",
    "\n",
    "a = '[^a-z0-9\\s]| inc| plc| llc| ltd| llp| limited| group| corporation| uk'"
   ]
  },
  {
   "cell_type": "code",
   "execution_count": 37,
   "id": "2156fb2c",
   "metadata": {},
   "outputs": [],
   "source": [
    "# We create a new Account Name column to clean it.\n",
    "# We remove those symbols and patters from the Account Name Cleaned column.\n",
    "# We replace the empty strings with NaN values in the Account Name Cleaned column.\n",
    "\n",
    "df2['Account Name Cleaned'] = df2['Account Name']\n",
    "df2['Account Name Cleaned'] = df2['Account Name Cleaned'].str.lower().str.replace(a, '', regex=True).str.strip()\n",
    "df2['Account Name Cleaned'] = df2['Account Name Cleaned'].replace('', np.nan)"
   ]
  },
  {
   "cell_type": "code",
   "execution_count": 38,
   "id": "24aefc81",
   "metadata": {},
   "outputs": [],
   "source": [
    "# We create a DataFrame without NaN values in the Account Name Cleaned column. \n",
    "# We sort by Account Name Cleaned and Contact Count.\n",
    "# We drop duplicates in the Account Name Cleaned column and we keep the first one. \n",
    "\n",
    "df2_account = df2.dropna(subset=['Account Name Cleaned'])\n",
    "df2_account = df2_account.sort_values(by=['Account Name Cleaned', 'Contact Count'], ascending=[True, False])\n",
    "df2_account = df2_account.drop_duplicates(subset='Account Name Cleaned', keep='first')"
   ]
  },
  {
   "cell_type": "code",
   "execution_count": 39,
   "id": "49534706",
   "metadata": {},
   "outputs": [],
   "source": [
    "# We create a list with the Account Name Cleaned values. \n",
    "\n",
    "df2_account_list = df2_account['Account Name Cleaned'].tolist()"
   ]
  },
  {
   "cell_type": "markdown",
   "id": "bd671407",
   "metadata": {},
   "source": [
    "### Cleansing the external companies"
   ]
  },
  {
   "cell_type": "code",
   "execution_count": 40,
   "id": "01f2a367",
   "metadata": {},
   "outputs": [],
   "source": [
    "# We read the file that contains the external accounts. \n",
    "\n",
    "ext_data_path = 'input/ext_data.csv'\n",
    "\n",
    "df3 = pd.read_csv(ext_data_path, encoding=\"latin-1\")\n"
   ]
  },
  {
   "cell_type": "code",
   "execution_count": 41,
   "id": "da27c7b4",
   "metadata": {},
   "outputs": [],
   "source": [
    "# We create a new Account Name column to clean it.\n",
    "# We remove those symbols and patters from the Account Name Cleaned column.\n",
    "# We replace the empty strings with NaN values in the Account Name Cleaned column.\n",
    "\n",
    "df3['Company Name Cleaned'] = df3['Company Name']\n",
    "df3['Company Name Cleaned'] = df3['Company Name Cleaned'].str.lower().str.replace(a, '', regex=True).str.strip()\n",
    "df3['Company Name Cleaned'] = df3['Company Name Cleaned'].fillna(' ')"
   ]
  },
  {
   "cell_type": "code",
   "execution_count": 42,
   "id": "d2a56942",
   "metadata": {},
   "outputs": [
    {
     "data": {
      "text/html": [
       "<div>\n",
       "<style scoped>\n",
       "    .dataframe tbody tr th:only-of-type {\n",
       "        vertical-align: middle;\n",
       "    }\n",
       "\n",
       "    .dataframe tbody tr th {\n",
       "        vertical-align: top;\n",
       "    }\n",
       "\n",
       "    .dataframe thead th {\n",
       "        text-align: right;\n",
       "    }\n",
       "</style>\n",
       "<table border=\"1\" class=\"dataframe\">\n",
       "  <thead>\n",
       "    <tr style=\"text-align: right;\">\n",
       "      <th></th>\n",
       "      <th>Company Name</th>\n",
       "      <th>First Name</th>\n",
       "      <th>Last Name</th>\n",
       "      <th>Job Title</th>\n",
       "      <th>Email</th>\n",
       "      <th>Swichboard</th>\n",
       "      <th>Mobile</th>\n",
       "      <th>LinkedIn URL</th>\n",
       "      <th>Location</th>\n",
       "      <th>Tag</th>\n",
       "      <th>...</th>\n",
       "      <th>Direct Line</th>\n",
       "      <th>Anual Revenue</th>\n",
       "      <th>Ownership Type</th>\n",
       "      <th>Company City</th>\n",
       "      <th>Company State</th>\n",
       "      <th>Company Zip Code</th>\n",
       "      <th>Company Country</th>\n",
       "      <th>company_products_services</th>\n",
       "      <th>company_description</th>\n",
       "      <th>Company Name Cleaned</th>\n",
       "    </tr>\n",
       "  </thead>\n",
       "  <tbody>\n",
       "    <tr>\n",
       "      <th>0</th>\n",
       "      <td>Oatly</td>\n",
       "      <td>Anne-Fleur</td>\n",
       "      <td>Jansen</td>\n",
       "      <td>Sales Manager Benelux</td>\n",
       "      <td>Anne-Fleur.Jansen@oatly.com</td>\n",
       "      <td>+44 (0)800 22881234</td>\n",
       "      <td>NaN</td>\n",
       "      <td>www.linkedin.com/in/anne-fleur-jansen-760b8123/</td>\n",
       "      <td>Amsterdam, North Holland, Netherlands</td>\n",
       "      <td>Global Client Climate ai</td>\n",
       "      <td>...</td>\n",
       "      <td>NaN</td>\n",
       "      <td>NaN</td>\n",
       "      <td>NaN</td>\n",
       "      <td>NaN</td>\n",
       "      <td>NaN</td>\n",
       "      <td>NaN</td>\n",
       "      <td>NaN</td>\n",
       "      <td>NaN</td>\n",
       "      <td>NaN</td>\n",
       "      <td>oatly</td>\n",
       "    </tr>\n",
       "    <tr>\n",
       "      <th>1</th>\n",
       "      <td>Natures Way Foods</td>\n",
       "      <td>Sam</td>\n",
       "      <td>Mitchell</td>\n",
       "      <td>Marketing Executive</td>\n",
       "      <td>Sam.Mitchell@natureswayfoods.com</td>\n",
       "      <td>+44 1243 603111</td>\n",
       "      <td>+44 7710 636453</td>\n",
       "      <td>www.linkedin.com/in/sam-mitchell-9842b2126/</td>\n",
       "      <td>Chichester, England, United Kingdom</td>\n",
       "      <td>Global Client Climate ai</td>\n",
       "      <td>...</td>\n",
       "      <td>NaN</td>\n",
       "      <td>NaN</td>\n",
       "      <td>NaN</td>\n",
       "      <td>NaN</td>\n",
       "      <td>NaN</td>\n",
       "      <td>NaN</td>\n",
       "      <td>NaN</td>\n",
       "      <td>NaN</td>\n",
       "      <td>NaN</td>\n",
       "      <td>natures way foods</td>\n",
       "    </tr>\n",
       "    <tr>\n",
       "      <th>2</th>\n",
       "      <td>Anb Investments</td>\n",
       "      <td>Viresh</td>\n",
       "      <td>Ramburan</td>\n",
       "      <td>Group Chief Executive and Director</td>\n",
       "      <td>viresh@anbinvestments.co.za</td>\n",
       "      <td>+27 (15) 345 1650</td>\n",
       "      <td>NaN</td>\n",
       "      <td>www.linkedin.com/in/viresh-ramburan-88516512/</td>\n",
       "      <td>City of Cape Town, Western Cape, South Africa</td>\n",
       "      <td>Global Client Climate ai</td>\n",
       "      <td>...</td>\n",
       "      <td>NaN</td>\n",
       "      <td>NaN</td>\n",
       "      <td>NaN</td>\n",
       "      <td>NaN</td>\n",
       "      <td>NaN</td>\n",
       "      <td>NaN</td>\n",
       "      <td>NaN</td>\n",
       "      <td>NaN</td>\n",
       "      <td>NaN</td>\n",
       "      <td>anb investments</td>\n",
       "    </tr>\n",
       "    <tr>\n",
       "      <th>3</th>\n",
       "      <td>Anb Investments</td>\n",
       "      <td>Jan-Willem</td>\n",
       "      <td>Boonzaaier</td>\n",
       "      <td>Operations Executive</td>\n",
       "      <td>jan-willem@anbinvestments.co.za</td>\n",
       "      <td>+27 (15) 345 1650</td>\n",
       "      <td>+27 82 558 8444</td>\n",
       "      <td>www.linkedin.com/in/janwillemboonzaaier/</td>\n",
       "      <td>City of Cape Town, Western Cape, South Africa</td>\n",
       "      <td>Global Client Climate ai</td>\n",
       "      <td>...</td>\n",
       "      <td>NaN</td>\n",
       "      <td>NaN</td>\n",
       "      <td>NaN</td>\n",
       "      <td>NaN</td>\n",
       "      <td>NaN</td>\n",
       "      <td>NaN</td>\n",
       "      <td>NaN</td>\n",
       "      <td>NaN</td>\n",
       "      <td>NaN</td>\n",
       "      <td>anb investments</td>\n",
       "    </tr>\n",
       "    <tr>\n",
       "      <th>4</th>\n",
       "      <td>BOHMER</td>\n",
       "      <td>Bob</td>\n",
       "      <td>Lu</td>\n",
       "      <td>GENERAL MANAGER</td>\n",
       "      <td>Bob.Lu@boehmer.com</td>\n",
       "      <td>+49 (0) 2324 7001-0</td>\n",
       "      <td>NaN</td>\n",
       "      <td>www.linkedin.com/in/bob-lu-07324642/</td>\n",
       "      <td>Shanghai, China</td>\n",
       "      <td>Global Client Climate ai</td>\n",
       "      <td>...</td>\n",
       "      <td>NaN</td>\n",
       "      <td>NaN</td>\n",
       "      <td>NaN</td>\n",
       "      <td>NaN</td>\n",
       "      <td>NaN</td>\n",
       "      <td>NaN</td>\n",
       "      <td>NaN</td>\n",
       "      <td>NaN</td>\n",
       "      <td>NaN</td>\n",
       "      <td>bohmer</td>\n",
       "    </tr>\n",
       "  </tbody>\n",
       "</table>\n",
       "<p>5 rows × 29 columns</p>\n",
       "</div>"
      ],
      "text/plain": [
       "        Company Name   First Name   Last Name  \\\n",
       "0              Oatly  Anne-Fleur       Jansen   \n",
       "1  Natures Way Foods         Sam     Mitchell   \n",
       "2    Anb Investments      Viresh     Ramburan   \n",
       "3    Anb Investments  Jan-Willem   Boonzaaier   \n",
       "4             BOHMER         Bob           Lu   \n",
       "\n",
       "                            Job Title                             Email  \\\n",
       "0               Sales Manager Benelux       Anne-Fleur.Jansen@oatly.com   \n",
       "1                 Marketing Executive  Sam.Mitchell@natureswayfoods.com   \n",
       "2  Group Chief Executive and Director       viresh@anbinvestments.co.za   \n",
       "3                Operations Executive   jan-willem@anbinvestments.co.za   \n",
       "4                     GENERAL MANAGER                Bob.Lu@boehmer.com   \n",
       "\n",
       "            Swichboard           Mobile  \\\n",
       "0  +44 (0)800 22881234              NaN   \n",
       "1      +44 1243 603111  +44 7710 636453   \n",
       "2    +27 (15) 345 1650              NaN   \n",
       "3    +27 (15) 345 1650  +27 82 558 8444   \n",
       "4  +49 (0) 2324 7001-0              NaN   \n",
       "\n",
       "                                      LinkedIn URL  \\\n",
       "0  www.linkedin.com/in/anne-fleur-jansen-760b8123/   \n",
       "1      www.linkedin.com/in/sam-mitchell-9842b2126/   \n",
       "2    www.linkedin.com/in/viresh-ramburan-88516512/   \n",
       "3         www.linkedin.com/in/janwillemboonzaaier/   \n",
       "4             www.linkedin.com/in/bob-lu-07324642/   \n",
       "\n",
       "                                        Location                       Tag  \\\n",
       "0          Amsterdam, North Holland, Netherlands  Global Client Climate ai   \n",
       "1            Chichester, England, United Kingdom  Global Client Climate ai   \n",
       "2  City of Cape Town, Western Cape, South Africa  Global Client Climate ai   \n",
       "3  City of Cape Town, Western Cape, South Africa  Global Client Climate ai   \n",
       "4                                Shanghai, China  Global Client Climate ai   \n",
       "\n",
       "   ... Direct Line Anual Revenue Ownership Type  Company City  Company State  \\\n",
       "0  ...         NaN           NaN            NaN           NaN            NaN   \n",
       "1  ...         NaN           NaN            NaN           NaN            NaN   \n",
       "2  ...         NaN           NaN            NaN           NaN            NaN   \n",
       "3  ...         NaN           NaN            NaN           NaN            NaN   \n",
       "4  ...         NaN           NaN            NaN           NaN            NaN   \n",
       "\n",
       "  Company Zip Code Company Country company_products_services  \\\n",
       "0              NaN             NaN                       NaN   \n",
       "1              NaN             NaN                       NaN   \n",
       "2              NaN             NaN                       NaN   \n",
       "3              NaN             NaN                       NaN   \n",
       "4              NaN             NaN                       NaN   \n",
       "\n",
       "  company_description Company Name Cleaned  \n",
       "0                 NaN                oatly  \n",
       "1                 NaN    natures way foods  \n",
       "2                 NaN      anb investments  \n",
       "3                 NaN      anb investments  \n",
       "4                 NaN               bohmer  \n",
       "\n",
       "[5 rows x 29 columns]"
      ]
     },
     "execution_count": 42,
     "metadata": {},
     "output_type": "execute_result"
    }
   ],
   "source": [
    "df3.head()"
   ]
  },
  {
   "cell_type": "code",
   "execution_count": 11,
   "id": "9e909531",
   "metadata": {},
   "outputs": [],
   "source": [
    "# We create a list with the Account Name Cleaned values and we drop the duplicates. \n",
    "\n",
    "df3_company_list = df3.drop_duplicates(subset='Company Name Cleaned', keep='first')['Company Name Cleaned'].tolist()"
   ]
  },
  {
   "cell_type": "code",
   "execution_count": 12,
   "id": "95789cc9",
   "metadata": {},
   "outputs": [
    {
     "data": {
      "text/plain": [
       "['oatly',\n",
       " 'natures way foods',\n",
       " 'anb investments',\n",
       " 'bohmer',\n",
       " 'molson coors brewing company']"
      ]
     },
     "execution_count": 12,
     "metadata": {},
     "output_type": "execute_result"
    }
   ],
   "source": [
    "df3_company_list[:5]"
   ]
  },
  {
   "cell_type": "code",
   "execution_count": 13,
   "id": "3aec0c19",
   "metadata": {},
   "outputs": [],
   "source": [
    "# We use the model 'TF-IDF' from the PolyFuzz library.\n",
    "# Changing Parameters to be used on large Data\n",
    "model = TFIDF(n_gram_range=(2,2), clean_string=True, min_similarity=0.95, cosine_method='sparse', top_n=1)"
   ]
  },
  {
   "cell_type": "code",
   "execution_count": 62,
   "id": "8a43dc9a",
   "metadata": {},
   "outputs": [],
   "source": [
    "#Saving results of model\n",
    "# Main part of the Fuzzy search\n",
    "result = model.match(df2_account_list, df3_company_list)"
   ]
  },
  {
   "cell_type": "markdown",
   "id": "f1bb845b",
   "metadata": {},
   "source": [
    "---"
   ]
  },
  {
   "cell_type": "code",
   "execution_count": 63,
   "id": "8e788906",
   "metadata": {},
   "outputs": [
    {
     "data": {
      "text/html": [
       "<div>\n",
       "<style scoped>\n",
       "    .dataframe tbody tr th:only-of-type {\n",
       "        vertical-align: middle;\n",
       "    }\n",
       "\n",
       "    .dataframe tbody tr th {\n",
       "        vertical-align: top;\n",
       "    }\n",
       "\n",
       "    .dataframe thead th {\n",
       "        text-align: right;\n",
       "    }\n",
       "</style>\n",
       "<table border=\"1\" class=\"dataframe\">\n",
       "  <thead>\n",
       "    <tr style=\"text-align: right;\">\n",
       "      <th></th>\n",
       "      <th>From</th>\n",
       "      <th>To</th>\n",
       "      <th>Similarity</th>\n",
       "    </tr>\n",
       "  </thead>\n",
       "  <tbody>\n",
       "    <tr>\n",
       "      <th>0</th>\n",
       "      <td>012 golden lines</td>\n",
       "      <td>None</td>\n",
       "      <td>0.0</td>\n",
       "    </tr>\n",
       "    <tr>\n",
       "      <th>1</th>\n",
       "      <td>01synergy</td>\n",
       "      <td>None</td>\n",
       "      <td>0.0</td>\n",
       "    </tr>\n",
       "    <tr>\n",
       "      <th>2</th>\n",
       "      <td>01t</td>\n",
       "      <td>None</td>\n",
       "      <td>0.0</td>\n",
       "    </tr>\n",
       "    <tr>\n",
       "      <th>3</th>\n",
       "      <td>02 telefonica  wifi</td>\n",
       "      <td>None</td>\n",
       "      <td>0.0</td>\n",
       "    </tr>\n",
       "    <tr>\n",
       "      <th>4</th>\n",
       "      <td>07 media</td>\n",
       "      <td>None</td>\n",
       "      <td>0.0</td>\n",
       "    </tr>\n",
       "  </tbody>\n",
       "</table>\n",
       "</div>"
      ],
      "text/plain": [
       "                  From    To  Similarity\n",
       "0     012 golden lines  None         0.0\n",
       "1            01synergy  None         0.0\n",
       "2                  01t  None         0.0\n",
       "3  02 telefonica  wifi  None         0.0\n",
       "4             07 media  None         0.0"
      ]
     },
     "execution_count": 63,
     "metadata": {},
     "output_type": "execute_result"
    }
   ],
   "source": [
    "result.head()"
   ]
  },
  {
   "cell_type": "code",
   "execution_count": 64,
   "id": "3eea70e8",
   "metadata": {},
   "outputs": [],
   "source": [
    "# We create a DataFrame that contains similarity > .95\n",
    "\n",
    "old_account = result[result['Similarity'] > .95].reset_index(drop=True)\n",
    "old_account = old_account.rename({'From': 'Account Name Cleaned', 'To': 'Company Name Cleaned'}, axis=1)"
   ]
  },
  {
   "cell_type": "code",
   "execution_count": 65,
   "id": "a1ad154b",
   "metadata": {},
   "outputs": [],
   "source": [
    "# old_account['T/F'] = old_account['Account Name Cleaned'] == old_account['Company Name Cleaned']\n",
    "\n",
    "old_account['T/F'] = np.where(old_account['Similarity'] >= 0.98, True, False)\n"
   ]
  },
  {
   "cell_type": "markdown",
   "id": "42559324",
   "metadata": {},
   "source": [
    "---"
   ]
  },
  {
   "cell_type": "code",
   "execution_count": 66,
   "id": "f9de1fb3",
   "metadata": {},
   "outputs": [],
   "source": [
    "old_account['string_based'] = old_account['Account Name Cleaned'] == old_account['Company Name Cleaned']\n",
    "old_account['len'] = old_account['Company Name Cleaned'].apply(lambda x: len(x))"
   ]
  },
  {
   "cell_type": "markdown",
   "id": "db118084",
   "metadata": {},
   "source": [
    "---"
   ]
  },
  {
   "cell_type": "code",
   "execution_count": 67,
   "id": "6c2e4d33",
   "metadata": {},
   "outputs": [],
   "source": [
    "old_account = old_account.sort_values(by=['T/F'], ascending=True).reset_index(drop=True)"
   ]
  },
  {
   "cell_type": "code",
   "execution_count": 68,
   "id": "90067a94",
   "metadata": {},
   "outputs": [],
   "source": [
    "old_account.to_csv('output/old_account_check.csv', index=False)"
   ]
  },
  {
   "cell_type": "markdown",
   "id": "428d00a3",
   "metadata": {
    "scrolled": true
   },
   "source": [
    "exit()"
   ]
  },
  {
   "cell_type": "code",
   "execution_count": 91,
   "id": "e988cc34",
   "metadata": {},
   "outputs": [],
   "source": [
    "old_account = pd.read_csv('output/old_account_check.csv')"
   ]
  },
  {
   "cell_type": "markdown",
   "id": "247e45a3",
   "metadata": {},
   "source": [
    "---"
   ]
  },
  {
   "cell_type": "code",
   "execution_count": 92,
   "id": "1324773a",
   "metadata": {},
   "outputs": [
    {
     "data": {
      "text/html": [
       "<div>\n",
       "<style scoped>\n",
       "    .dataframe tbody tr th:only-of-type {\n",
       "        vertical-align: middle;\n",
       "    }\n",
       "\n",
       "    .dataframe tbody tr th {\n",
       "        vertical-align: top;\n",
       "    }\n",
       "\n",
       "    .dataframe thead th {\n",
       "        text-align: right;\n",
       "    }\n",
       "</style>\n",
       "<table border=\"1\" class=\"dataframe\">\n",
       "  <thead>\n",
       "    <tr style=\"text-align: right;\">\n",
       "      <th></th>\n",
       "      <th>Account Name Cleaned</th>\n",
       "      <th>Company Name Cleaned</th>\n",
       "      <th>Similarity</th>\n",
       "      <th>T/F</th>\n",
       "      <th>string_based</th>\n",
       "      <th>len</th>\n",
       "    </tr>\n",
       "  </thead>\n",
       "  <tbody>\n",
       "  </tbody>\n",
       "</table>\n",
       "</div>"
      ],
      "text/plain": [
       "Empty DataFrame\n",
       "Columns: [Account Name Cleaned, Company Name Cleaned, Similarity, T/F, string_based, len]\n",
       "Index: []"
      ]
     },
     "execution_count": 92,
     "metadata": {},
     "output_type": "execute_result"
    }
   ],
   "source": [
    "old_account.loc[(old_account['T/F'] != old_account['string_based']) & (old_account['len'] <= 20)].sort_values(by='len')"
   ]
  },
  {
   "cell_type": "code",
   "execution_count": 93,
   "id": "6e3ea5a5",
   "metadata": {},
   "outputs": [],
   "source": [
    "old_account_T = old_account[old_account['T/F'] == True].reset_index(drop='True')\n",
    "old_account_F = old_account[old_account['T/F'] == False].reset_index(drop='True')"
   ]
  },
  {
   "cell_type": "code",
   "execution_count": 155,
   "id": "ccfa4eb0",
   "metadata": {},
   "outputs": [],
   "source": [
    "inner_account_T = pd.merge(df2_account,\n",
    "                      old_account_T,\n",
    "                      on = 'Account Name Cleaned',\n",
    "                      how = 'inner',)\n",
    "                      #indicator = True).drop(columns = '_merge')"
   ]
  },
  {
   "cell_type": "code",
   "execution_count": 156,
   "id": "85b96ac8",
   "metadata": {},
   "outputs": [
    {
     "data": {
      "text/html": [
       "<div>\n",
       "<style scoped>\n",
       "    .dataframe tbody tr th:only-of-type {\n",
       "        vertical-align: middle;\n",
       "    }\n",
       "\n",
       "    .dataframe tbody tr th {\n",
       "        vertical-align: top;\n",
       "    }\n",
       "\n",
       "    .dataframe thead th {\n",
       "        text-align: right;\n",
       "    }\n",
       "</style>\n",
       "<table border=\"1\" class=\"dataframe\">\n",
       "  <thead>\n",
       "    <tr style=\"text-align: right;\">\n",
       "      <th></th>\n",
       "      <th>Account Name</th>\n",
       "      <th>Website</th>\n",
       "      <th>Contact Count</th>\n",
       "      <th>Account ID</th>\n",
       "      <th>Account Name Cleaned</th>\n",
       "      <th>Company Name Cleaned</th>\n",
       "      <th>Similarity</th>\n",
       "      <th>T/F</th>\n",
       "      <th>string_based</th>\n",
       "      <th>len</th>\n",
       "    </tr>\n",
       "  </thead>\n",
       "  <tbody>\n",
       "    <tr>\n",
       "      <th>0</th>\n",
       "      <td>Baker McKenzie</td>\n",
       "      <td>bakermckenzie.com</td>\n",
       "      <td>1.0</td>\n",
       "      <td>0014O00002LDmYb</td>\n",
       "      <td>baker mckenzie</td>\n",
       "      <td>baker  mckenzie</td>\n",
       "      <td>1.0</td>\n",
       "      <td>True</td>\n",
       "      <td>True</td>\n",
       "      <td>15</td>\n",
       "    </tr>\n",
       "    <tr>\n",
       "      <th>1</th>\n",
       "      <td>BNP Paribas Cardif</td>\n",
       "      <td>www.bnpparibascardif.com</td>\n",
       "      <td>54.0</td>\n",
       "      <td>0014O000025jo6d</td>\n",
       "      <td>bnp paribas cardif</td>\n",
       "      <td>bnp paribas  cardif</td>\n",
       "      <td>1.0</td>\n",
       "      <td>True</td>\n",
       "      <td>True</td>\n",
       "      <td>19</td>\n",
       "    </tr>\n",
       "  </tbody>\n",
       "</table>\n",
       "</div>"
      ],
      "text/plain": [
       "         Account Name                   Website  Contact Count  \\\n",
       "0      Baker McKenzie         bakermckenzie.com            1.0   \n",
       "1  BNP Paribas Cardif  www.bnpparibascardif.com           54.0   \n",
       "\n",
       "        Account ID Account Name Cleaned Company Name Cleaned  Similarity  \\\n",
       "0  0014O00002LDmYb       baker mckenzie      baker  mckenzie         1.0   \n",
       "1  0014O000025jo6d   bnp paribas cardif  bnp paribas  cardif         1.0   \n",
       "\n",
       "    T/F  string_based  len  \n",
       "0  True          True   15  \n",
       "1  True          True   19  "
      ]
     },
     "execution_count": 156,
     "metadata": {},
     "output_type": "execute_result"
    }
   ],
   "source": [
    "inner_account_T"
   ]
  },
  {
   "cell_type": "code",
   "execution_count": 149,
   "id": "7e73846e",
   "metadata": {},
   "outputs": [],
   "source": [
    "inner_account_T = inner_account_T[['Account ID', 'Account Name', 'Company Name Cleaned', 'Website']]"
   ]
  },
  {
   "cell_type": "code",
   "execution_count": 176,
   "id": "bc8a0d20",
   "metadata": {},
   "outputs": [],
   "source": [
    "inner_company_T = pd.merge(inner_account_T,\n",
    "                      df3,\n",
    "                      on = 'Company Name Cleaned',\n",
    "                      how = 'left',)\n",
    "                      #indicator = True).drop(columns = '_merge')"
   ]
  },
  {
   "cell_type": "code",
   "execution_count": 177,
   "id": "0d8b09f2",
   "metadata": {},
   "outputs": [
    {
     "data": {
      "text/html": [
       "<div>\n",
       "<style scoped>\n",
       "    .dataframe tbody tr th:only-of-type {\n",
       "        vertical-align: middle;\n",
       "    }\n",
       "\n",
       "    .dataframe tbody tr th {\n",
       "        vertical-align: top;\n",
       "    }\n",
       "\n",
       "    .dataframe thead th {\n",
       "        text-align: right;\n",
       "    }\n",
       "</style>\n",
       "<table border=\"1\" class=\"dataframe\">\n",
       "  <thead>\n",
       "    <tr style=\"text-align: right;\">\n",
       "      <th></th>\n",
       "      <th>Account Name</th>\n",
       "      <th>Website_x</th>\n",
       "      <th>Contact Count</th>\n",
       "      <th>Account ID</th>\n",
       "      <th>Account Name Cleaned</th>\n",
       "      <th>Company Name Cleaned</th>\n",
       "      <th>Similarity</th>\n",
       "      <th>T/F</th>\n",
       "      <th>string_based</th>\n",
       "      <th>len</th>\n",
       "      <th>...</th>\n",
       "      <th>Website_y</th>\n",
       "      <th>Direct Line</th>\n",
       "      <th>Anual Revenue</th>\n",
       "      <th>Ownership Type</th>\n",
       "      <th>Company City</th>\n",
       "      <th>Company State</th>\n",
       "      <th>Company Zip Code</th>\n",
       "      <th>Company Country</th>\n",
       "      <th>company_products_services</th>\n",
       "      <th>company_description</th>\n",
       "    </tr>\n",
       "  </thead>\n",
       "  <tbody>\n",
       "    <tr>\n",
       "      <th>0</th>\n",
       "      <td>Baker McKenzie</td>\n",
       "      <td>bakermckenzie.com</td>\n",
       "      <td>1.0</td>\n",
       "      <td>0014O00002LDmYb</td>\n",
       "      <td>baker mckenzie</td>\n",
       "      <td>baker  mckenzie</td>\n",
       "      <td>1.0</td>\n",
       "      <td>True</td>\n",
       "      <td>True</td>\n",
       "      <td>15</td>\n",
       "      <td>...</td>\n",
       "      <td>NaN</td>\n",
       "      <td>NaN</td>\n",
       "      <td>NaN</td>\n",
       "      <td>NaN</td>\n",
       "      <td>NaN</td>\n",
       "      <td>NaN</td>\n",
       "      <td>NaN</td>\n",
       "      <td>NaN</td>\n",
       "      <td>NaN</td>\n",
       "      <td>NaN</td>\n",
       "    </tr>\n",
       "    <tr>\n",
       "      <th>1</th>\n",
       "      <td>BNP Paribas Cardif</td>\n",
       "      <td>www.bnpparibascardif.com</td>\n",
       "      <td>54.0</td>\n",
       "      <td>0014O000025jo6d</td>\n",
       "      <td>bnp paribas cardif</td>\n",
       "      <td>bnp paribas  cardif</td>\n",
       "      <td>1.0</td>\n",
       "      <td>True</td>\n",
       "      <td>True</td>\n",
       "      <td>19</td>\n",
       "      <td>...</td>\n",
       "      <td>NaN</td>\n",
       "      <td>NaN</td>\n",
       "      <td>NaN</td>\n",
       "      <td>NaN</td>\n",
       "      <td>NaN</td>\n",
       "      <td>NaN</td>\n",
       "      <td>NaN</td>\n",
       "      <td>NaN</td>\n",
       "      <td>NaN</td>\n",
       "      <td>NaN</td>\n",
       "    </tr>\n",
       "  </tbody>\n",
       "</table>\n",
       "<p>2 rows × 38 columns</p>\n",
       "</div>"
      ],
      "text/plain": [
       "         Account Name                 Website_x  Contact Count  \\\n",
       "0      Baker McKenzie         bakermckenzie.com            1.0   \n",
       "1  BNP Paribas Cardif  www.bnpparibascardif.com           54.0   \n",
       "\n",
       "        Account ID Account Name Cleaned Company Name Cleaned  Similarity  \\\n",
       "0  0014O00002LDmYb       baker mckenzie      baker  mckenzie         1.0   \n",
       "1  0014O000025jo6d   bnp paribas cardif  bnp paribas  cardif         1.0   \n",
       "\n",
       "    T/F  string_based  len  ... Website_y Direct Line Anual Revenue  \\\n",
       "0  True          True   15  ...       NaN         NaN           NaN   \n",
       "1  True          True   19  ...       NaN         NaN           NaN   \n",
       "\n",
       "  Ownership Type Company City Company State Company Zip Code Company Country  \\\n",
       "0            NaN          NaN           NaN              NaN             NaN   \n",
       "1            NaN          NaN           NaN              NaN             NaN   \n",
       "\n",
       "  company_products_services company_description  \n",
       "0                       NaN                 NaN  \n",
       "1                       NaN                 NaN  \n",
       "\n",
       "[2 rows x 38 columns]"
      ]
     },
     "execution_count": 177,
     "metadata": {},
     "output_type": "execute_result"
    }
   ],
   "source": [
    "inner_company_T.head()"
   ]
  },
  {
   "cell_type": "code",
   "execution_count": 178,
   "id": "01b50005",
   "metadata": {},
   "outputs": [],
   "source": [
    "# Accounts that we have in our system\n",
    "\n",
    "inner_company_T.to_csv('output/old_accounts.csv') #Old accounts"
   ]
  },
  {
   "cell_type": "markdown",
   "id": "85014520",
   "metadata": {},
   "source": [
    "---"
   ]
  },
  {
   "cell_type": "markdown",
   "id": "435af1c5",
   "metadata": {},
   "source": [
    "# Concatenation function"
   ]
  },
  {
   "cell_type": "code",
   "execution_count": 179,
   "id": "7ab22966",
   "metadata": {},
   "outputs": [
    {
     "name": "stdout",
     "output_type": "stream",
     "text": [
      "0014O00002LDmYb,0014O000025jo6d  size :31\n"
     ]
    }
   ],
   "source": [
    "# Getting the list of ID's\n",
    "for i in range(0, len(inner_company_T['Account ID']), 60):\n",
    "   concat = ','.join(inner_company_T['Account ID'].tolist()[i:i+60])\n",
    "   print(concat, f\" size :{len(concat)}\")"
   ]
  },
  {
   "cell_type": "markdown",
   "id": "ded73ed5",
   "metadata": {},
   "source": [
    "---"
   ]
  },
  {
   "cell_type": "code",
   "execution_count": 180,
   "id": "f53b5dc5",
   "metadata": {},
   "outputs": [],
   "source": [
    "inner_company_T_list = inner_company_T['Company Name'].tolist()"
   ]
  },
  {
   "cell_type": "code",
   "execution_count": 186,
   "id": "79525cd6",
   "metadata": {},
   "outputs": [],
   "source": [
    "new_accounts = df3[df3['Company Name'].isin(inner_company_T_list)].reset_index(drop=True)"
   ]
  },
  {
   "cell_type": "code",
   "execution_count": 187,
   "id": "01aa2776",
   "metadata": {},
   "outputs": [],
   "source": [
    "new_accounts.to_csv('output/new_accounts.csv')"
   ]
  },
  {
   "cell_type": "markdown",
   "id": "f6ed10cf",
   "metadata": {},
   "source": [
    "## Using the Website parameter"
   ]
  },
  {
   "cell_type": "markdown",
   "id": "75f00c19",
   "metadata": {},
   "source": [
    "\n",
    "\n",
    "### Cleansing the old-new DataFrame"
   ]
  },
  {
   "cell_type": "markdown",
   "id": "0a50012a",
   "metadata": {},
   "source": []
  },
  {
   "cell_type": "markdown",
   "id": "f9145471",
   "metadata": {},
   "source": []
  }
 ],
 "metadata": {
  "kernelspec": {
   "display_name": "Python 3 (ipykernel)",
   "language": "python",
   "name": "python3"
  },
  "language_info": {
   "codemirror_mode": {
    "name": "ipython",
    "version": 3
   },
   "file_extension": ".py",
   "mimetype": "text/x-python",
   "name": "python",
   "nbconvert_exporter": "python",
   "pygments_lexer": "ipython3",
   "version": "3.8.0"
  }
 },
 "nbformat": 4,
 "nbformat_minor": 5
}
