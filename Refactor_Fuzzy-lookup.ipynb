{
 "cells": [
  {
   "cell_type": "markdown",
   "id": "6a953974",
   "metadata": {},
   "source": [
    "# Fuzzy-Lookup"
   ]
  },
  {
   "cell_type": "code",
   "execution_count": 53,
   "id": "7d9fb70f",
   "metadata": {},
   "outputs": [],
   "source": [
    "# We import the libraries that we are goin to use. \n",
    "\n",
    "import numpy as np\n",
    "import pandas as pd\n",
    "from polyfuzz.models import TFIDF"
   ]
  },
  {
   "cell_type": "markdown",
   "id": "9c947c90",
   "metadata": {},
   "source": [
    "## Using the Account Name parameter"
   ]
  },
  {
   "cell_type": "markdown",
   "id": "e23af99a",
   "metadata": {},
   "source": [
    "### Cleansing the SF accounts"
   ]
  },
  {
   "cell_type": "code",
   "execution_count": 54,
   "id": "4714d6b3",
   "metadata": {},
   "outputs": [],
   "source": [
    "# We read the file that contains the SF Accounts.\n",
    "\n",
    "accounts_path = 'input/sf_accounts.csv'\n",
    "\n",
    "df2 = pd.read_csv(accounts_path, encoding = 'utf-8').dropna(subset=['Account ID'])"
   ]
  },
  {
   "cell_type": "code",
   "execution_count": 55,
   "id": "28a70ac7",
   "metadata": {},
   "outputs": [],
   "source": [
    "# We stablish the strange symbols and patters that we are going to remove. \n",
    "\n",
    "a = r'[^a-z0-9\\s]| inc\\b| plc\\b| llc\\b| ltd\\b| llp\\b| limited\\b| group\\b| corporation\\b| uk\\b'"
   ]
  },
  {
   "cell_type": "code",
   "execution_count": 56,
   "id": "2156fb2c",
   "metadata": {},
   "outputs": [],
   "source": [
    "# We create a new Account Name column to clean it.\n",
    "# We remove those symbols and patters from the Account Name Cleaned column.\n",
    "# We replace the empty strings with NaN values in the Account Name Cleaned column.\n",
    "\n",
    "df2['Account Name Cleaned'] = df2['Account Name']\n",
    "df2['Account Name Cleaned'] = df2['Account Name Cleaned'].str.lower().str.replace(a, '', regex=True).str.strip()\n",
    "df2['Account Name Cleaned'] = df2['Account Name Cleaned'].replace('', np.nan)"
   ]
  },
  {
   "cell_type": "code",
   "execution_count": 57,
   "id": "24aefc81",
   "metadata": {},
   "outputs": [],
   "source": [
    "# We create a DataFrame without NaN values in the Account Name Cleaned column. \n",
    "# We sort by Account Name Cleaned and Contact Count.\n",
    "# We drop duplicates in the Account Name Cleaned column and we keep the first one. \n",
    "\n",
    "df2_account = df2.dropna(subset=['Account Name Cleaned'])\n",
    "df2_account = df2_account.sort_values(by=['Account Name Cleaned', 'Contact Count'], ascending=[True, False])\n",
    "df2_account = df2_account.drop_duplicates(subset='Account Name Cleaned', keep='first')"
   ]
  },
  {
   "cell_type": "code",
   "execution_count": 58,
   "id": "49534706",
   "metadata": {},
   "outputs": [],
   "source": [
    "# We create a list with the Account Name Cleaned values. \n",
    "\n",
    "df2_account_list = df2_account['Account Name Cleaned'].tolist()"
   ]
  },
  {
   "cell_type": "markdown",
   "id": "bd671407",
   "metadata": {},
   "source": [
    "### Cleansing the external companies"
   ]
  },
  {
   "cell_type": "code",
   "execution_count": 59,
   "id": "01f2a367",
   "metadata": {},
   "outputs": [],
   "source": [
    "# We read the file that contains the external accounts. \n",
    "\n",
    "ext_data_path = 'input/ext_data.csv'\n",
    "\n",
    "df3 = pd.read_csv(ext_data_path, encoding=\"utf-8\")\n"
   ]
  },
  {
   "cell_type": "code",
   "execution_count": 60,
   "id": "da27c7b4",
   "metadata": {},
   "outputs": [],
   "source": [
    "# We create a new Account Name column to clean it.\n",
    "# We remove those symbols and patters from the Account Name Cleaned column.\n",
    "# We replace the empty strings with NaN values in the Account Name Cleaned column.\n",
    "\n",
    "df3['Company Name Cleaned'] = df3['Company Name']\n",
    "df3['Company Name Cleaned'] = df3['Company Name Cleaned'].str.lower().str.replace(a, '', regex=True).str.strip()\n",
    "df3['Company Name Cleaned'] = df3['Company Name Cleaned'].fillna(' ')"
   ]
  },
  {
   "cell_type": "code",
   "execution_count": 61,
   "id": "9e909531",
   "metadata": {},
   "outputs": [],
   "source": [
    "# We create a list with the Account Name Cleaned values and we drop the duplicates. \n",
    "\n",
    "df3_company_list = df3.drop_duplicates(subset='Company Name Cleaned', keep='first')['Company Name Cleaned'].tolist()"
   ]
  },
  {
   "cell_type": "code",
   "execution_count": 62,
   "id": "3aec0c19",
   "metadata": {},
   "outputs": [],
   "source": [
    "# We use the model 'TF-IDF' from the PolyFuzz library.\n",
    "# Changing Parameters to be used on large Data\n",
    "model = TFIDF(n_gram_range=(2,4), clean_string=True,cosine_method='sparse', top_n=1)"
   ]
  },
  {
   "cell_type": "code",
   "execution_count": 63,
   "id": "8a43dc9a",
   "metadata": {},
   "outputs": [],
   "source": [
    "#Saving results of model\n",
    "# Main part of the Fuzzy search\n",
    "result = model.match(df3_company_list, df2_account_list)"
   ]
  },
  {
   "cell_type": "code",
   "execution_count": 64,
   "id": "3eea70e8",
   "metadata": {},
   "outputs": [],
   "source": [
    "# We create a DataFrame that contains similarity > 0\n",
    "\n",
    "old_account = result[result['Similarity'] > 0].reset_index(drop=True)\n",
    "old_account = old_account.rename({'From': 'Company Name Cleaned', 'To':  'Account Name Cleaned'}, axis=1)"
   ]
  },
  {
   "cell_type": "code",
   "execution_count": 65,
   "id": "a1ad154b",
   "metadata": {},
   "outputs": [],
   "source": [
    "old_account['T/F'] = np.where(old_account['Similarity'] >= 0.98, True, False)\n"
   ]
  },
  {
   "cell_type": "markdown",
   "id": "42559324",
   "metadata": {},
   "source": [
    "---"
   ]
  },
  {
   "cell_type": "code",
   "execution_count": 66,
   "id": "f9de1fb3",
   "metadata": {},
   "outputs": [],
   "source": [
    "old_account['string_based'] = old_account['Account Name Cleaned'] == old_account['Company Name Cleaned']\n",
    "old_account['len'] = old_account['Company Name Cleaned'].apply(lambda x: len(x))"
   ]
  },
  {
   "cell_type": "code",
   "execution_count": 67,
   "id": "6c2e4d33",
   "metadata": {},
   "outputs": [],
   "source": [
    "old_account = old_account.sort_values(by=['T/F'], ascending=True).reset_index(drop=True)"
   ]
  },
  {
   "cell_type": "code",
   "execution_count": 68,
   "id": "90067a94",
   "metadata": {},
   "outputs": [],
   "source": [
    "old_account.to_csv('output/old_account_check.csv', index=False, encoding='utf-8-sig')"
   ]
  },
  {
   "cell_type": "markdown",
   "id": "db118084",
   "metadata": {},
   "source": [
    "---"
   ]
  },
  {
   "cell_type": "code",
   "execution_count": null,
   "id": "428d00a3",
   "metadata": {
    "scrolled": true,
    "tags": []
   },
   "outputs": [],
   "source": [
    "exit()"
   ]
  },
  {
   "cell_type": "markdown",
   "id": "247e45a3",
   "metadata": {},
   "source": [
    "---"
   ]
  },
  {
   "cell_type": "code",
   "execution_count": 69,
   "id": "e988cc34",
   "metadata": {},
   "outputs": [],
   "source": [
    "old_account = pd.read_csv('output/old_account_check.csv')"
   ]
  },
  {
   "cell_type": "code",
   "execution_count": 70,
   "id": "6e3ea5a5",
   "metadata": {},
   "outputs": [],
   "source": [
    "old_account_T = old_account[old_account['T/F'] == True].reset_index(drop='True')\n",
    "old_account_F = old_account[old_account['T/F'] == False].reset_index(drop='True')"
   ]
  },
  {
   "cell_type": "code",
   "execution_count": 71,
   "id": "ccfa4eb0",
   "metadata": {},
   "outputs": [],
   "source": [
    "inner_account_T = pd.merge(df2_account,\n",
    "                      old_account_T,\n",
    "                      on = 'Account Name Cleaned',\n",
    "                      how = 'inner',)\n",
    "                      #indicator = True).drop(columns = '_merge')"
   ]
  },
  {
   "cell_type": "code",
   "execution_count": 72,
   "id": "7e73846e",
   "metadata": {},
   "outputs": [],
   "source": [
    "inner_account_T = inner_account_T[['Account ID', 'Account Name', 'Company Name Cleaned', 'Website']]"
   ]
  },
  {
   "cell_type": "code",
   "execution_count": 73,
   "id": "bc8a0d20",
   "metadata": {},
   "outputs": [],
   "source": [
    "inner_company_T = pd.merge(inner_account_T,\n",
    "                      df3,\n",
    "                      on = 'Company Name Cleaned',\n",
    "                      how = 'left', suffixes=('_SF','_ext'))\n",
    "                      #indicator = True).drop(columns = '_merge')"
   ]
  },
  {
   "cell_type": "code",
   "execution_count": 74,
   "id": "01b50005",
   "metadata": {},
   "outputs": [],
   "source": [
    "# Accounts that we have in our system\n",
    "\n",
    "inner_company_T.to_csv('output/old_accounts.csv', index=False, encoding='utf-8-sig') #Old accounts"
   ]
  },
  {
   "cell_type": "markdown",
   "id": "85014520",
   "metadata": {},
   "source": [
    "---"
   ]
  },
  {
   "cell_type": "markdown",
   "id": "435af1c5",
   "metadata": {},
   "source": [
    "# Concatenation function"
   ]
  },
  {
   "cell_type": "code",
   "execution_count": 75,
   "id": "7ab22966",
   "metadata": {},
   "outputs": [
    {
     "name": "stdout",
     "output_type": "stream",
     "text": [
      "0014O00002LErlFQAT,0014O00002OtjAcQAJ,0014O00002LDrIHQA1,0014O000025jd7bQAA,0011300001wDBPRAA4,0014O00002LBXVsQAP,0014O000025jmsAQAQ,0014O00002LDvr5QAD,0011300001vsg3uAAA,001a000001TfuTrAAJ,0014O00002LCTQ8QAP,0014O00002OtjIFQAZ,001a000001RZDPzAAP,0011B000029QAdIQAW,0014O00002OtjIXQAZ,0014O000025jmtuQAA,0011300001up8kaAAA,001a000001RZDRUAA5,0011300001uV2cgAAC,0014O00002OtjIJQAZ,0014O00002OtjAaQAJ,0014O00002LCO2TQAX,001a000001RZDTIAA5,0011300001vzpOQAAY,0011300001wDBbXAAW,0014O00002LCITuQAP,0014O00002Ie0tDQAR,001a000001RZDVmAAP,001a000001RZDYRAA5,001a000001RZDZRAA5,0014O00002936jJQAQ,0011300001wDBlSAAW,0014O00002OtjIGQAZ,0011300001wDBorAAG,001a000001RZDclAAH,0011300001wDBqTAAW,0011300001wDBOTAA4,0011300001wDBrdAAG,0014O00002OtjITQAZ,0011300001wDBsoAAG,001a000001RZDfmAAH,0011300001u9lUVAAY,0011B00002DR5L4QAL,0014O00002OtjIWQAZ,001a000001RZDihAAH,0014O000025jn1iQAA,0014O00002LD7zLQAT,001a000001RZDnIAAX,0014O00002OtjIPQAZ,0014O00002OtjIIQAZ,001a000001Tft0yAAB,0014O000025jp1ZQAQ,0014O00002OtjIOQAZ,0014O00002LESMfQAP,0014O00002LCdxBQAT,001a000001Tfu70AAB,0014O00002LD5evQAD,0014O00002OtjIYQAZ,0014O000025jmXgQAI,0011300001upCRCAA2  size :1139\n",
      "0014O0000293BrIQAU,0011300001wDCSYAA4,0014O00002OtjIHQAZ,0014O00002LEojeQAD,0014O00002Evsr5QAB,0014O00002OtjIMQAZ,0014O00002OtjIZQAZ,0014O00002LElTNQA1,0014O000025jnAeQAI,0014O00002EvwngQAB,0014O00002LEllQQAT,0014O00002OtjINQAZ,0014O0000292jonQAA,001a000001RZE0JAAX,0014O00002LD7lIQAT,0014O00002LCIFOQA5,0011B0000234SbfQAE,0014O00002LCRpVQAX,0014O00002LDpnGQAT,0014O00002EuPtxQAF,0014O0000293BQYQA2,0014O00002OtjIVQAZ,0014O00002OtjISQAZ,0014O000025jnFUQAY,0014O00002LBwVBQA1,0014O00002OtjICQAZ,0014O00002LCNbgQAH,0014O00002OtjIKQAZ,0011300001wDCsyAAG,0014O00002LElRqQAL,0014O0000293CT0QAM,0014O000025jpHxQAI,0011300001x6IIgAAM,0011300001wDCz3AAG,0014O000025jplYQAQ,0014O00002LBrZNQA1,0011300001uB58cAAC,0014O00002LCI68QAH,0014O00002LBrSlQAL,0011300001wDD5LAAW,0014O00002OtjIQQAZ,0011300001hnYwXAAU,0014O0000293I1HQAU,0011300001sJdYfAAK,0014O000025jpRYQAY,0011300001wDD8aAAG,001a000001TfubzAAB,0011300001wDDASAA4,0014O000025jnILQAY,0014O00002LF4BAQA1,0014O00002K7IHbQAN,0011300001wDDDHAA4,0014O000025kAyMQAU,001a000001TfuEMAAZ,0014O00002LBrUuQAL,0014O0000291BpHQAU,0014O00002OtjAbQAJ,001a000001TfgqhAAB,0014O00002OtjIEQAZ,0011300001wDDQLAA4  size :1139\n",
      "0011300001wDDRZAA4,0014O00002OtjIRQAZ,0011300001wDDZwAAO,0014O00002OtjIDQAZ,001a000001XWSD3AAP  size :94\n"
     ]
    }
   ],
   "source": [
    "# Getting the list of ID's\n",
    "for i in range(0, len(inner_company_T['Account ID'].drop_duplicates()), 60):\n",
    "   concat = ','.join(inner_company_T['Account ID'].drop_duplicates().tolist()[i:i+60])\n",
    "   print(concat, f\" size :{len(concat)}\")"
   ]
  },
  {
   "cell_type": "markdown",
   "id": "ded73ed5",
   "metadata": {},
   "source": [
    "---"
   ]
  },
  {
   "cell_type": "code",
   "execution_count": 76,
   "id": "f53b5dc5",
   "metadata": {},
   "outputs": [],
   "source": [
    "inner_company_T_list = inner_company_T['Company Name'].tolist()"
   ]
  },
  {
   "cell_type": "code",
   "execution_count": 77,
   "id": "79525cd6",
   "metadata": {},
   "outputs": [],
   "source": [
    "new_accounts = df3[~df3['Company Name'].isin(inner_company_T_list)].reset_index(drop=True)"
   ]
  },
  {
   "cell_type": "code",
   "execution_count": 78,
   "id": "01aa2776",
   "metadata": {},
   "outputs": [],
   "source": [
    "new_accounts.to_csv('output/new_accounts.csv',index=False, encoding='utf-8-sig')"
   ]
  }
 ],
 "metadata": {
  "kernelspec": {
   "display_name": "Python 3 (ipykernel)",
   "language": "python",
   "name": "python3"
  },
  "language_info": {
   "codemirror_mode": {
    "name": "ipython",
    "version": 3
   },
   "file_extension": ".py",
   "mimetype": "text/x-python",
   "name": "python",
   "nbconvert_exporter": "python",
   "pygments_lexer": "ipython3",
   "version": "3.8.0"
  }
 },
 "nbformat": 4,
 "nbformat_minor": 5
}
