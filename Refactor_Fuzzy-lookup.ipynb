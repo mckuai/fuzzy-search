{
 "cells": [
  {
   "cell_type": "markdown",
   "id": "6a953974",
   "metadata": {},
   "source": [
    "# Fuzzy-Lookup"
   ]
  },
  {
   "cell_type": "code",
   "execution_count": 2,
   "id": "7d9fb70f",
   "metadata": {},
   "outputs": [],
   "source": [
    "# We import the libraries that we are goin to use. \n",
    "\n",
    "import numpy as np\n",
    "import pandas as pd\n",
    "from polyfuzz.models import TFIDF"
   ]
  },
  {
   "cell_type": "markdown",
   "id": "9c947c90",
   "metadata": {},
   "source": [
    "## Using the Account Name parameter"
   ]
  },
  {
   "cell_type": "markdown",
   "id": "e23af99a",
   "metadata": {},
   "source": [
    "### Cleansing the SF accounts"
   ]
  },
  {
   "cell_type": "code",
   "execution_count": 3,
   "id": "4714d6b3",
   "metadata": {},
   "outputs": [],
   "source": [
    "# We read the file that contains the SF Accounts.\n",
    "\n",
    "accounts_path = 'input/sf_accounts.csv'\n",
    "\n",
    "df2 = pd.read_csv(accounts_path, encoding = 'Latin-1').dropna(subset=['Account ID'])"
   ]
  },
  {
   "cell_type": "code",
   "execution_count": 5,
   "id": "28a70ac7",
   "metadata": {},
   "outputs": [],
   "source": [
    "# We stablish the strange symbols and patters that we are going to remove. \n",
    "\n",
    "a = '[^a-z0-9\\s]| inc| plc| llc| ltd| llp| limited| group| corporation| uk'"
   ]
  },
  {
   "cell_type": "code",
   "execution_count": 6,
   "id": "2156fb2c",
   "metadata": {},
   "outputs": [],
   "source": [
    "# We create a new Account Name column to clean it.\n",
    "# We remove those symbols and patters from the Account Name Cleaned column.\n",
    "# We replace the empty strings with NaN values in the Account Name Cleaned column.\n",
    "\n",
    "df2['Account Name Cleaned'] = df2['Account Name']\n",
    "df2['Account Name Cleaned'] = df2['Account Name Cleaned'].str.lower().str.replace(a, '', regex=True).str.strip()\n",
    "df2['Account Name Cleaned'] = df2['Account Name Cleaned'].replace('', np.nan)"
   ]
  },
  {
   "cell_type": "code",
   "execution_count": 7,
   "id": "24aefc81",
   "metadata": {},
   "outputs": [],
   "source": [
    "# We create a DataFrame without NaN values in the Account Name Cleaned column. \n",
    "# We sort by Account Name Cleaned and Contact Count.\n",
    "# We drop duplicates in the Account Name Cleaned column and we keep the first one. \n",
    "\n",
    "df2_account = df2.dropna(subset=['Account Name Cleaned'])\n",
    "df2_account = df2_account.sort_values(by=['Account Name Cleaned', 'Contact Count'], ascending=[True, False])\n",
    "df2_account = df2_account.drop_duplicates(subset='Account Name Cleaned', keep='first')"
   ]
  },
  {
   "cell_type": "code",
   "execution_count": 8,
   "id": "49534706",
   "metadata": {},
   "outputs": [],
   "source": [
    "# We create a list with the Account Name Cleaned values. \n",
    "\n",
    "df2_account_list = df2_account['Account Name Cleaned'].tolist()"
   ]
  },
  {
   "cell_type": "markdown",
   "id": "bd671407",
   "metadata": {},
   "source": [
    "### Cleansing the external companies"
   ]
  },
  {
   "cell_type": "code",
   "execution_count": 9,
   "id": "01f2a367",
   "metadata": {},
   "outputs": [],
   "source": [
    "# We read the file that contains the external accounts. \n",
    "\n",
    "ext_data_path = 'input/ext_data.csv'\n",
    "\n",
    "df3 = pd.read_csv(ext_data_path, encoding=\"Latin1\")\n"
   ]
  },
  {
   "cell_type": "code",
   "execution_count": 10,
   "id": "da27c7b4",
   "metadata": {},
   "outputs": [],
   "source": [
    "# We create a new Account Name column to clean it.\n",
    "# We remove those symbols and patters from the Account Name Cleaned column.\n",
    "# We replace the empty strings with NaN values in the Account Name Cleaned column.\n",
    "\n",
    "df3['Company Name Cleaned'] = df3['Company Name']\n",
    "df3['Company Name Cleaned'] = df3['Company Name Cleaned'].str.lower().str.replace(a, '', regex=True).str.strip()\n",
    "df3['Company Name Cleaned'] = df3['Company Name Cleaned'].fillna(' ')"
   ]
  },
  {
   "cell_type": "code",
   "execution_count": 12,
   "id": "9e909531",
   "metadata": {},
   "outputs": [],
   "source": [
    "# We create a list with the Account Name Cleaned values and we drop the duplicates. \n",
    "\n",
    "df3_company_list = df3.drop_duplicates(subset='Company Name Cleaned', keep='first')['Company Name Cleaned'].tolist()"
   ]
  },
  {
   "cell_type": "code",
   "execution_count": 182,
   "id": "3aec0c19",
   "metadata": {},
   "outputs": [],
   "source": [
    "# We use the model 'TF-IDF' from the PolyFuzz library.\n",
    "# Changing Parameters to be used on large Data\n",
    "model = TFIDF(n_gram_range=(2,4), clean_string=True,cosine_method='sparse', top_n=1)"
   ]
  },
  {
   "cell_type": "code",
   "execution_count": 183,
   "id": "8a43dc9a",
   "metadata": {},
   "outputs": [],
   "source": [
    "#Saving results of model\n",
    "# Main part of the Fuzzy search\n",
    "result = model.match(df3_company_list, df2_account_list)"
   ]
  },
  {
   "cell_type": "code",
   "execution_count": 186,
   "id": "3eea70e8",
   "metadata": {},
   "outputs": [],
   "source": [
    "# We create a DataFrame that contains similarity > 0\n",
    "\n",
    "old_account = result[result['Similarity'] > 0].reset_index(drop=True)\n",
    "old_account = old_account.rename({'From': 'Company Name Cleaned', 'To':  'Account Name Cleaned'}, axis=1)"
   ]
  },
  {
   "cell_type": "code",
   "execution_count": 187,
   "id": "a1ad154b",
   "metadata": {},
   "outputs": [],
   "source": [
    "old_account['T/F'] = np.where(old_account['Similarity'] >= 0.98, True, False)\n"
   ]
  },
  {
   "cell_type": "markdown",
   "id": "42559324",
   "metadata": {},
   "source": [
    "---"
   ]
  },
  {
   "cell_type": "code",
   "execution_count": 188,
   "id": "f9de1fb3",
   "metadata": {},
   "outputs": [],
   "source": [
    "old_account['string_based'] = old_account['Account Name Cleaned'] == old_account['Company Name Cleaned']\n",
    "old_account['len'] = old_account['Company Name Cleaned'].apply(lambda x: len(x))"
   ]
  },
  {
   "cell_type": "code",
   "execution_count": 189,
   "id": "6c2e4d33",
   "metadata": {},
   "outputs": [],
   "source": [
    "old_account = old_account.sort_values(by=['T/F'], ascending=True).reset_index(drop=True)"
   ]
  },
  {
   "cell_type": "code",
   "execution_count": 190,
   "id": "90067a94",
   "metadata": {},
   "outputs": [],
   "source": [
    "old_account.to_csv('output/old_account_check.csv', index=False)"
   ]
  },
  {
   "cell_type": "markdown",
   "id": "db118084",
   "metadata": {},
   "source": [
    "---"
   ]
  },
  {
   "cell_type": "code",
   "execution_count": null,
   "id": "428d00a3",
   "metadata": {
    "scrolled": true
   },
   "outputs": [],
   "source": [
    "exit()"
   ]
  },
  {
   "cell_type": "markdown",
   "id": "247e45a3",
   "metadata": {},
   "source": [
    "---"
   ]
  },
  {
   "cell_type": "code",
   "execution_count": 191,
   "id": "e988cc34",
   "metadata": {},
   "outputs": [],
   "source": [
    "old_account = pd.read_csv('output/old_account_check.csv')"
   ]
  },
  {
   "cell_type": "code",
   "execution_count": 193,
   "id": "6e3ea5a5",
   "metadata": {},
   "outputs": [],
   "source": [
    "old_account_T = old_account[old_account['T/F'] == True].reset_index(drop='True')\n",
    "old_account_F = old_account[old_account['T/F'] == False].reset_index(drop='True')"
   ]
  },
  {
   "cell_type": "code",
   "execution_count": 194,
   "id": "ccfa4eb0",
   "metadata": {},
   "outputs": [],
   "source": [
    "inner_account_T = pd.merge(df2_account,\n",
    "                      old_account_T,\n",
    "                      on = 'Account Name Cleaned',\n",
    "                      how = 'inner',)\n",
    "                      #indicator = True).drop(columns = '_merge')"
   ]
  },
  {
   "cell_type": "code",
   "execution_count": 196,
   "id": "7e73846e",
   "metadata": {},
   "outputs": [],
   "source": [
    "inner_account_T = inner_account_T[['Account ID', 'Account Name', 'Company Name Cleaned', 'Website']]"
   ]
  },
  {
   "cell_type": "code",
   "execution_count": 197,
   "id": "bc8a0d20",
   "metadata": {},
   "outputs": [],
   "source": [
    "inner_company_T = pd.merge(inner_account_T,\n",
    "                      df3,\n",
    "                      on = 'Company Name Cleaned',\n",
    "                      how = 'left', suffixes=('_SF','_ext'))\n",
    "                      #indicator = True).drop(columns = '_merge')"
   ]
  },
  {
   "cell_type": "code",
   "execution_count": 199,
   "id": "01b50005",
   "metadata": {},
   "outputs": [],
   "source": [
    "# Accounts that we have in our system\n",
    "\n",
    "inner_company_T.to_csv('output/old_accounts.csv', index=False) #Old accounts"
   ]
  },
  {
   "cell_type": "markdown",
   "id": "85014520",
   "metadata": {},
   "source": [
    "---"
   ]
  },
  {
   "cell_type": "markdown",
   "id": "435af1c5",
   "metadata": {},
   "source": [
    "# Concatenation function"
   ]
  },
  {
   "cell_type": "code",
   "execution_count": 200,
   "id": "7ab22966",
   "metadata": {},
   "outputs": [
    {
     "name": "stdout",
     "output_type": "stream",
     "text": [
      "0018c00002E2XpDAAV,0018c00002E2Xp6AAF,0018c00002E2XpjAAF,0018c00002E2XpCAAV,0018c00002E2XpgAAF,0018c00002E2XpfAAF,0018c00002E2Xo4AAF,0018c00002E2XodAAF,0018c00002E2XpnAAF,0018c00002E2XqHAAV,0018c00002E2XoyAAF,0018c00002E2Xq0AAF,0018c00002E2Xq9AAF,0018c00002E2XoQAAV,0018c00002E2Xp2AAF,0018c00002E2XonAAF,0018c00002E2XowAAF,0018c00002E2XorAAF,0018c00002E2XoOAAV,0018c00002E2XofAAF,0018c00002E2XoJAAV,0018c00002E2Xq8AAF,0018c00002E2XpxAAF,0018c00002E2Xp1AAF,0018c00002E2Xp5AAF,0018c00002E2XojAAF,0018c00002E2XoBAAV,0018c00002E2XplAAF,0018c00002E2XppAAF,0018c00002E2XpQAAV,0018c00002E2XosAAF,0018c00002E2XoTAAV,0018c00002E2XouAAF,0018c00002E2XpXAAV,0018c00002E2XoNAAV,0018c00002E2Xq5AAF,0018c00002E2XpZAAV,0018c00002E2XoSAAV,0018c00002E2XpyAAF,0018c00002E2XpoAAF,0018c00002E2XpmAAF,0018c00002E2Xo8AAF,0018c00002E2XpzAAF,0018c00002E2XoPAAV,0018c00002E2Xo9AAF,0018c00002E2XpOAAV,0018c00002E2XpbAAF,0018c00002E2Xp3AAF,0018c00002E2XohAAF,0018c00002E2XobAAF,0018c00002E2Xo6AAF,0018c00002E2XqEAAV,0018c00002E2XqCAAV,0018c00002E2Xp4AAF,0018c00002E2XpWAAV,0018c00002E2XoIAAV,0018c00002E2XpcAAF,0018c00002E2XotAAF,0018c00002E2XoxAAF,0018c00002E2Xq2AAF  size :1139\n",
      "0018c00002E2XoAAAV,0018c00002E2XoCAAV,0018c00002E2XoEAAV,0018c00002E2XoVAAV,0018c00002E2XoRAAV,0018c00002E2Xq3AAF,0018c00002E2XpSAAV,0018c00002E2XocAAF,0018c00002E2XpLAAV,0018c00002E2XovAAF,0018c00002E2XqFAAV,0018c00002E2XpdAAF,0018c00002E2XqAAAV,0018c00002E2XoHAAV,0018c00002E2XpAAAV,0018c00002E2XolAAF,0018c00002E2XoGAAV,0018c00002E2XpVAAV,0018c00002E2XpiAAF,0018c00002E2XoZAAV,0018c00002E2Xo7AAF,0018c00002E2XoaAAF,0018c00002E2XpTAAV,0018c00002E2XpuAAF,0018c00002E2Xp8AAF,0018c00002E2XopAAF,0018c00002E2XpYAAV,0018c00002E2XozAAF,0018c00002E2XomAAF,0018c00002E2XoeAAF,0018c00002E2XoiAAF,0018c00002E2XphAAF,0018c00002E2XpwAAF,0018c00002E2XpNAAV,0018c00002E2XoLAAV,0018c00002E2Xo5AAF,0018c00002E2XpeAAF,0018c00002E2XpRAAV,0018c00002E2XoMAAV,0018c00002E2XpEAAV,0018c00002E2XpkAAF,0018c00002E2XoDAAV,0018c00002E2XpJAAV,0018c00002E2Xp0AAF,0018c00002E2XpIAAV,0018c00002E2XoYAAV,0018c00002E2XoUAAV,0018c00002E2XoKAAV,0018c00002E2XqGAAV,0018c00002E2XpKAAV,0018c00002E2Xq6AAF,0018c00002E2XpFAAV,0018c00002E2XptAAF,0018c00002E2XqBAAV,0018c00002E2XogAAF,0018c00002E2Xp9AAF,0018c00002E2XpPAAV,0018c00002E2XoXAAV,0018c00002E2XpBAAV,0018c00002E2Xq7AAF  size :1139\n",
      "0018c00002E2XoqAAF,0018c00002E2XoFAAV,0018c00002E2XpaAAF,0018c00002E2XpHAAV,0018c00002E2XpvAAF,0018c00002E2XooAAF,0018c00002E2XpGAAV,0018c00002E2XprAAF,0018c00002E2XpsAAF,0018c00002E2XokAAF,0018c00002E2XqDAAV,0018c00002E2Xq4AAF,0018c00002E2XpqAAF,0018c00002E2Xq1AAF,0018c00002E2Xo3AAF,0018c00002E2Xp7AAF,0018c00002E2XoWAAV,0018c00002E2XpMAAV,0018c00002E2XpUAAV  size :360\n"
     ]
    }
   ],
   "source": [
    "# Getting the list of ID's\n",
    "for i in range(0, len(inner_company_T['Account ID'].drop_duplicates()), 60):\n",
    "   concat = ','.join(inner_company_T['Account ID'].drop_duplicates().tolist()[i:i+60])\n",
    "   print(concat, f\" size :{len(concat)}\")"
   ]
  },
  {
   "cell_type": "markdown",
   "id": "ded73ed5",
   "metadata": {},
   "source": [
    "---"
   ]
  },
  {
   "cell_type": "code",
   "execution_count": 201,
   "id": "f53b5dc5",
   "metadata": {},
   "outputs": [],
   "source": [
    "inner_company_T_list = inner_company_T['Company Name'].tolist()"
   ]
  },
  {
   "cell_type": "code",
   "execution_count": 202,
   "id": "79525cd6",
   "metadata": {},
   "outputs": [],
   "source": [
    "new_accounts = df3[~df3['Company Name'].isin(inner_company_T_list)].reset_index(drop=True)"
   ]
  },
  {
   "cell_type": "code",
   "execution_count": 203,
   "id": "01aa2776",
   "metadata": {},
   "outputs": [],
   "source": [
    "new_accounts.to_csv('output/new_accounts.csv',index=False, encoding='utf-8')"
   ]
  }
 ],
 "metadata": {
  "kernelspec": {
   "display_name": "Python 3",
   "language": "python",
   "name": "python3"
  },
  "language_info": {
   "codemirror_mode": {
    "name": "ipython",
    "version": 3
   },
   "file_extension": ".py",
   "mimetype": "text/x-python",
   "name": "python",
   "nbconvert_exporter": "python",
   "pygments_lexer": "ipython3",
   "version": "3.8.12"
  }
 },
 "nbformat": 4,
 "nbformat_minor": 5
}
