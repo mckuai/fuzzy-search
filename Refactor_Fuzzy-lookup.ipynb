{
 "cells": [
  {
   "cell_type": "markdown",
   "id": "6a953974",
   "metadata": {},
   "source": [
    "# Fuzzy-Lookup"
   ]
  },
  {
   "cell_type": "code",
   "execution_count": 2,
   "id": "7d9fb70f",
   "metadata": {},
   "outputs": [
    {
     "name": "stderr",
     "output_type": "stream",
     "text": [
      "/home/rafapointco/anaconda3/envs/fuzzyrefactor/lib/python3.8/site-packages/torch/cuda/__init__.py:52: UserWarning: CUDA initialization: Found no NVIDIA driver on your system. Please check that you have an NVIDIA GPU and installed a driver from http://www.nvidia.com/Download/index.aspx (Triggered internally at  /pytorch/c10/cuda/CUDAFunctions.cpp:100.)\n",
      "  return torch._C._cuda_getDeviceCount() > 0\n"
     ]
    }
   ],
   "source": [
    "# We import the libraries that we are goin to use. \n",
    "\n",
    "import numpy as np\n",
    "import pandas as pd\n",
    "from polyfuzz.models import TFIDF"
   ]
  },
  {
   "cell_type": "markdown",
   "id": "9c947c90",
   "metadata": {},
   "source": [
    "## Using the Account Name parameter"
   ]
  },
  {
   "cell_type": "markdown",
   "id": "e23af99a",
   "metadata": {},
   "source": [
    "### Cleansing the SF accounts"
   ]
  },
  {
   "cell_type": "code",
   "execution_count": 154,
   "id": "4714d6b3",
   "metadata": {},
   "outputs": [],
   "source": [
    "# We read the file that contains the SF Accounts.\n",
    "\n",
    "df2 = pd.read_csv('input/sf_accounts.csv').dropna(subset=['Account ID'])"
   ]
  },
  {
   "cell_type": "code",
   "execution_count": 155,
   "id": "28a70ac7",
   "metadata": {},
   "outputs": [],
   "source": [
    "# We stablish the strange symbols and patters that we are going to remove. \n",
    "\n",
    "a = '[^a-z0-9\\s]| inc| plc| llc| ltd| llp| limited| group| corporation| uk'"
   ]
  },
  {
   "cell_type": "code",
   "execution_count": 156,
   "id": "2156fb2c",
   "metadata": {},
   "outputs": [],
   "source": [
    "# We create a new Account Name column to clean it.\n",
    "# We remove those symbols and patters from the Account Name Cleaned column.\n",
    "# We replace the empty strings with NaN values in the Account Name Cleaned column.\n",
    "\n",
    "df2['Account Name Cleaned'] = df2['Account Name']\n",
    "df2['Account Name Cleaned'] = df2['Account Name Cleaned'].str.lower().str.replace(a, '', regex=True).str.strip()\n",
    "df2['Account Name Cleaned'] = df2['Account Name Cleaned'].replace('', np.nan)"
   ]
  },
  {
   "cell_type": "code",
   "execution_count": 157,
   "id": "24aefc81",
   "metadata": {},
   "outputs": [],
   "source": [
    "# We create a DataFrame without NaN values in the Account Name Cleaned column. \n",
    "# We sort by Account Name Cleaned and Contact Count.\n",
    "# We drop duplicates in the Account Name Cleaned column and we keep the first one. \n",
    "\n",
    "df2_account = df2.dropna(subset=['Account Name Cleaned'])\n",
    "df2_account = df2_account.sort_values(by=['Account Name Cleaned', 'Contact Count'], ascending=[True, False])\n",
    "df2_account = df2_account.drop_duplicates(subset='Account Name Cleaned', keep='first')"
   ]
  },
  {
   "cell_type": "code",
   "execution_count": 158,
   "id": "49534706",
   "metadata": {},
   "outputs": [],
   "source": [
    "# We create a list with the Account Name Cleaned values. \n",
    "\n",
    "df2_account_list = df2_account['Account Name Cleaned'].tolist()"
   ]
  },
  {
   "cell_type": "markdown",
   "id": "bd671407",
   "metadata": {},
   "source": [
    "### Cleansing the external companies"
   ]
  },
  {
   "cell_type": "code",
   "execution_count": 159,
   "id": "01f2a367",
   "metadata": {},
   "outputs": [],
   "source": [
    "# We read the file that contains the external accounts. \n",
    "\n",
    "df3 = pd.read_csv('input/ext_data.csv', encoding=\"latin-1\")\n"
   ]
  },
  {
   "cell_type": "code",
   "execution_count": 160,
   "id": "da27c7b4",
   "metadata": {},
   "outputs": [],
   "source": [
    "# We create a new Account Name column to clean it.\n",
    "# We remove those symbols and patters from the Account Name Cleaned column.\n",
    "# We replace the empty strings with NaN values in the Account Name Cleaned column.\n",
    "\n",
    "df3['Company Name Cleaned'] = df3['Company Name']\n",
    "df3['Company Name Cleaned'] = df3['Company Name Cleaned'].str.lower().str.replace(a, '', regex=True).str.strip()\n",
    "df3['Company Name Cleaned'] = df3['Company Name Cleaned'].fillna(' ')"
   ]
  },
  {
   "cell_type": "code",
   "execution_count": 161,
   "id": "9e909531",
   "metadata": {},
   "outputs": [],
   "source": [
    "# We create a list with the Account Name Cleaned values and we drop the duplicates. \n",
    "\n",
    "df3_company_list = df3.drop_duplicates(subset='Company Name Cleaned', keep='first')['Company Name Cleaned'].tolist()"
   ]
  },
  {
   "cell_type": "code",
   "execution_count": 167,
   "id": "3aec0c19",
   "metadata": {},
   "outputs": [],
   "source": [
    "# We use the model 'TF-IDF' from the PolyFuzz library.\n",
    "# Changing Parameters to be used on large Data\n",
    "model = TFIDF(n_gram_range=(2,2), clean_string=True, min_similarity=0.95, cosine_method='sparse', top_n=1)"
   ]
  },
  {
   "cell_type": "code",
   "execution_count": 168,
   "id": "8a43dc9a",
   "metadata": {},
   "outputs": [],
   "source": [
    "#Saving results of model\n",
    "result = model.match(df2_account_list, df3_company_list)"
   ]
  },
  {
   "cell_type": "code",
   "execution_count": 169,
   "id": "3eea70e8",
   "metadata": {},
   "outputs": [],
   "source": [
    "# We create a DataFrame that contains similarity > .95\n",
    "\n",
    "old_account = result[result['Similarity'] > .95].reset_index(drop=True)\n",
    "old_account = old_account.rename({'From': 'Account Name Cleaned', 'To': 'Company Name Cleaned'}, axis=1)"
   ]
  },
  {
   "cell_type": "code",
   "execution_count": 170,
   "id": "a1ad154b",
   "metadata": {},
   "outputs": [],
   "source": [
    "# old_account['T/F'] = old_account['Account Name Cleaned'] == old_account['Company Name Cleaned']\n",
    "\n",
    "old_account['T/F'] = np.where(old_account['Similarity'] == 1, True, False)"
   ]
  },
  {
   "cell_type": "code",
   "execution_count": 171,
   "id": "6c2e4d33",
   "metadata": {},
   "outputs": [],
   "source": [
    "old_account = old_account.sort_values(by=['T/F'], ascending=True).reset_index(drop=True)"
   ]
  },
  {
   "cell_type": "code",
   "execution_count": 172,
   "id": "90067a94",
   "metadata": {},
   "outputs": [],
   "source": [
    "old_account.to_csv('output/old_account_check.csv')"
   ]
  },
  {
   "cell_type": "code",
   "execution_count": 15,
   "id": "428d00a3",
   "metadata": {
    "scrolled": true
   },
   "outputs": [
    {
     "ename": "SystemExit",
     "evalue": "",
     "output_type": "error",
     "traceback": [
      "An exception has occurred, use %tb to see the full traceback.\n",
      "\u001b[1;31mSystemExit\u001b[0m\n"
     ]
    },
    {
     "name": "stderr",
     "output_type": "stream",
     "text": [
      "C:\\Users\\PC03\\miniconda3\\envs\\myenv\\lib\\site-packages\\IPython\\core\\interactiveshell.py:3449: UserWarning: To exit: use 'exit', 'quit', or Ctrl-D.\n",
      "  warn(\"To exit: use 'exit', 'quit', or Ctrl-D.\", stacklevel=1)\n"
     ]
    }
   ],
   "source": [
    "exit()"
   ]
  },
  {
   "cell_type": "code",
   "execution_count": 173,
   "id": "e988cc34",
   "metadata": {},
   "outputs": [],
   "source": [
    "old_account = pd.read_csv('output/old_account_check.csv')"
   ]
  },
  {
   "cell_type": "code",
   "execution_count": 174,
   "id": "6e3ea5a5",
   "metadata": {},
   "outputs": [],
   "source": [
    "old_account_T = old_account[old_account['T/F'] == True].reset_index(drop='True')\n",
    "old_account_F = old_account[old_account['T/F'] == False].reset_index(drop='True')"
   ]
  },
  {
   "cell_type": "code",
   "execution_count": 175,
   "id": "ccfa4eb0",
   "metadata": {},
   "outputs": [],
   "source": [
    "inner_account_T = pd.merge(df2_account,\n",
    "                      old_account_T,\n",
    "                      on = 'Account Name Cleaned',\n",
    "                      how = 'inner',\n",
    "                      indicator = True).drop(columns = '_merge')"
   ]
  },
  {
   "cell_type": "code",
   "execution_count": 19,
   "id": "7e73846e",
   "metadata": {},
   "outputs": [],
   "source": [
    "inner_account_T = inner_account_T[['Account ID', 'Account Name', 'Company Name Cleaned', 'Website']]"
   ]
  },
  {
   "cell_type": "code",
   "execution_count": 20,
   "id": "bc8a0d20",
   "metadata": {},
   "outputs": [],
   "source": [
    "inner_company_T = pd.merge(inner_account_T,\n",
    "                      df3,\n",
    "                      on = 'Company Name Cleaned',\n",
    "                      how = 'inner',\n",
    "                      indicator = True).drop(columns = '_merge')"
   ]
  },
  {
   "cell_type": "code",
   "execution_count": 21,
   "id": "01b50005",
   "metadata": {},
   "outputs": [],
   "source": [
    "inner_company_T.to_csv('output/old_accounts.csv')"
   ]
  },
  {
   "cell_type": "code",
   "execution_count": 22,
   "id": "f53b5dc5",
   "metadata": {},
   "outputs": [],
   "source": [
    "inner_company_T_list = inner_company_T['Company Name'].tolist()"
   ]
  },
  {
   "cell_type": "code",
   "execution_count": 23,
   "id": "79525cd6",
   "metadata": {},
   "outputs": [],
   "source": [
    "new_accounts = df3[~df3['Company Name'].isin(inner_company_T_list)].reset_index(drop=True)"
   ]
  },
  {
   "cell_type": "code",
   "execution_count": 24,
   "id": "01aa2776",
   "metadata": {},
   "outputs": [],
   "source": [
    "new_accounts.to_csv('output/new_accounts.csv')"
   ]
  },
  {
   "cell_type": "markdown",
   "id": "f6ed10cf",
   "metadata": {},
   "source": [
    "## Using the Website parameter"
   ]
  },
  {
   "cell_type": "markdown",
   "id": "75f00c19",
   "metadata": {},
   "source": [
    "\n",
    "\n",
    "### Cleansing the old-new DataFrame"
   ]
  }
 ],
 "metadata": {
  "kernelspec": {
   "display_name": "Python 3 (ipykernel)",
   "language": "python",
   "name": "python3"
  },
  "language_info": {
   "codemirror_mode": {
    "name": "ipython",
    "version": 3
   },
   "file_extension": ".py",
   "mimetype": "text/x-python",
   "name": "python",
   "nbconvert_exporter": "python",
   "pygments_lexer": "ipython3",
   "version": "3.8.0"
  }
 },
 "nbformat": 4,
 "nbformat_minor": 5
}
